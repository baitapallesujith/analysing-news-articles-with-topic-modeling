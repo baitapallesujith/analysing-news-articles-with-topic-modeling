{
  "cells": [
    {
      "cell_type": "markdown",
      "metadata": {
        "id": "view-in-github",
        "colab_type": "text"
      },
      "source": [
        "<a href=\"https://colab.research.google.com/github/vahadruya/Capstone-Project-Unsupervised-ML-Topic-Modelling/blob/main/Intermediate_Colab_Notebooks/Unsupervised_ML_Capstone_Day1.ipynb\" target=\"_parent\"><img src=\"https://colab.research.google.com/assets/colab-badge.svg\" alt=\"Open In Colab\"/></a>"
      ]
    },
    {
      "cell_type": "markdown",
      "source": [
        "Day 1 - A Rough modeling of the data using LDA. Pre-proecssing of the text included: \n",
        "*   Removing punctuations\n",
        "*   Removing stopwords\n",
        "*   Stemming\n",
        "\n",
        "Tokenisation using CountVectorizer\n",
        "\n",
        "**pyLDAvis is recently incompatible with the updated attribute of sklearn get_feature_names_out() instead of get_feature_names. I have updated this in the sklearn.py file of pyLDAvis.sklearn.prepare locally to deal with the issue**"
      ],
      "metadata": {
        "id": "6hqFjldpIPjy"
      }
    },
    {
      "cell_type": "code",
      "source": [
        "import pandas as pd\n",
        "import numpy as np\n",
        "import glob\n",
        "import re\n",
        "import csv\n",
        "import matplotlib.pyplot as plt\n",
        "import seaborn as sns\n",
        "import string\n",
        "import nltk\n",
        "from nltk.corpus import stopwords\n",
        "from nltk.stem.snowball import SnowballStemmer\n",
        "from sklearn.feature_extraction.text import CountVectorizer, TfidfVectorizer\n",
        "from sklearn.decomposition import LatentDirichletAllocation\n",
        "from sklearn.model_selection import GridSearchCV\n",
        "from wordcloud import WordCloud\n",
        "import random"
      ],
      "metadata": {
        "id": "lOTiUzAB4P51"
      },
      "execution_count": null,
      "outputs": []
    },
    {
      "cell_type": "code",
      "source": [
        "from google.colab import drive\n",
        "drive.mount('/content/drive')"
      ],
      "metadata": {
        "colab": {
          "base_uri": "https://localhost:8080/"
        },
        "id": "v4JY8EL24RZZ",
        "outputId": "7fb1c500-969d-4476-d5a3-93b8bfe51e5f"
      },
      "execution_count": null,
      "outputs": [
        {
          "output_type": "stream",
          "name": "stdout",
          "text": [
            "Drive already mounted at /content/drive; to attempt to forcibly remount, call drive.mount(\"/content/drive\", force_remount=True).\n"
          ]
        }
      ]
    },
    {
      "cell_type": "code",
      "source": [
        "pd.set_option('display.max_colwidth', None)"
      ],
      "metadata": {
        "id": "i0X66Kis4Sg0"
      },
      "execution_count": null,
      "outputs": []
    },
    {
      "cell_type": "markdown",
      "source": [
        "## 1. Reading the Data"
      ],
      "metadata": {
        "id": "4geq5f4sywt_"
      }
    },
    {
      "cell_type": "code",
      "source": [
        "# Function for organising one article into 'Title' and 'Description' Columns\n",
        "def organise_data(df):\n",
        "  df['Description'] = ''\n",
        "  for row in df[df.columns.values[0]]:\n",
        "    df['Description'] += ' ' + row\n",
        "  df['Title'] = df.columns.values[0]\n",
        "  df = pd.DataFrame(df[['Title', 'Description']].loc[0]).transpose()\n",
        "  return df\n",
        "\n",
        "# Function for reading files from one particular category\n",
        "def read_from_folder(category, path):\n",
        "  files = glob.glob(path + category + \"/*.txt\")\n",
        "  df = pd.DataFrame(pd.read_table(files[0]))\n",
        "  df = organise_data(df)\n",
        "  \n",
        "  # Reading the rest of the files in the category, assigning a column for the given category name, and concatenating to the above DataFrame\n",
        "  for i in range(1, len(files)):\n",
        "    try:\n",
        "      next_df = pd.DataFrame(pd.read_table(files[i]))\n",
        "    except UnicodeDecodeError:\n",
        "      next_df = pd.DataFrame(pd.read_table(files[i], encoding = 'ISO-8859-1'))\n",
        "    except pd.errors.ParserError:\n",
        "      next_df = pd.DataFrame(pd.read_table(files[i], quoting=csv.QUOTE_NONE))\n",
        "    next_df = organise_data(next_df)\n",
        "    df = pd.concat([df, next_df], axis=0)\n",
        "    df['Category'] = category.capitalize()\n",
        "    df = df.reset_index(drop=True)\n",
        "  return df\n",
        "\n",
        "# Function for reading files from all categories and concatenating into one single DataFrame\n",
        "def read_from_folders(categories, path):\n",
        "  category_dict = dict()\n",
        "  for category in categories:\n",
        "    category_dict[category] = read_from_folder(category, path)\n",
        "  final_data = pd.concat([category_dict[category] for category in categories], axis=0).reset_index(drop=True)\n",
        "  return final_data"
      ],
      "metadata": {
        "id": "nCqXAewA4Tyu"
      },
      "execution_count": null,
      "outputs": []
    },
    {
      "cell_type": "code",
      "source": [
        "path = '/content/drive/MyDrive/ALMA BETTER/Module 4/#CAPSTONE 3 - UNSUPERVISED/Data/'\n",
        "folders = ['business', 'entertainment', 'politics', 'sport', 'tech']"
      ],
      "metadata": {
        "id": "bKXrl3_V4fld"
      },
      "execution_count": null,
      "outputs": []
    },
    {
      "cell_type": "code",
      "source": [
        "data = read_from_folders(folders, path)"
      ],
      "metadata": {
        "id": "Jno4Yh7S4hHx"
      },
      "execution_count": null,
      "outputs": []
    },
    {
      "cell_type": "code",
      "source": [
        "data.shape"
      ],
      "metadata": {
        "colab": {
          "base_uri": "https://localhost:8080/"
        },
        "id": "s9QdLyquDdRo",
        "outputId": "ad70d72f-9dd3-4f20-9df7-cd53374fce2c"
      },
      "execution_count": null,
      "outputs": [
        {
          "output_type": "execute_result",
          "data": {
            "text/plain": [
              "(2225, 3)"
            ]
          },
          "metadata": {},
          "execution_count": 7
        }
      ]
    },
    {
      "cell_type": "code",
      "source": [
        "data.drop_duplicates(inplace=True, ignore_index = True)"
      ],
      "metadata": {
        "id": "72Q7kKlhf_9V"
      },
      "execution_count": null,
      "outputs": []
    },
    {
      "cell_type": "code",
      "source": [
        "data.shape"
      ],
      "metadata": {
        "colab": {
          "base_uri": "https://localhost:8080/"
        },
        "id": "g9hRgmfykVM1",
        "outputId": "6c85830d-e1e4-42ea-fe4a-70775dc01b3d"
      },
      "execution_count": null,
      "outputs": [
        {
          "output_type": "execute_result",
          "data": {
            "text/plain": [
              "(2125, 3)"
            ]
          },
          "metadata": {},
          "execution_count": 9
        }
      ]
    },
    {
      "cell_type": "code",
      "source": [
        "data['Category'].value_counts()"
      ],
      "metadata": {
        "colab": {
          "base_uri": "https://localhost:8080/"
        },
        "id": "ZfQMVir5glRN",
        "outputId": "fec3b65a-93a4-43d8-aaa6-abfbbb4ca373"
      },
      "execution_count": null,
      "outputs": [
        {
          "output_type": "execute_result",
          "data": {
            "text/plain": [
              "Business         503\n",
              "Sport            503\n",
              "Politics         403\n",
              "Entertainment    369\n",
              "Tech             347\n",
              "Name: Category, dtype: int64"
            ]
          },
          "metadata": {},
          "execution_count": 10
        }
      ]
    },
    {
      "cell_type": "code",
      "source": [
        "data['Category'].value_counts().plot(kind='bar', figsize = (13,7))"
      ],
      "metadata": {
        "colab": {
          "base_uri": "https://localhost:8080/"
        },
        "id": "jW2TpojjlBGd",
        "outputId": "1eeaf45d-4151-4d15-ed3d-f387f0473f23"
      },
      "execution_count": null,
      "outputs": [
        {
          "output_type": "execute_result",
          "data": {
            "text/plain": [
              "<AxesSubplot:>"
            ]
          },
          "metadata": {},
          "execution_count": 11
        },
        {
          "output_type": "display_data",
          "data": {
            "text/plain": [
              "<Figure size 936x504 with 1 Axes>"
            ],
            "image/png": "[encoded data removed]"
          },
          "metadata": {
            "needs_background": "light"
          }
        }
      ]
    },
    {
      "cell_type": "markdown",
      "source": [
        "## 2. Data Pre-Processing"
      ],
      "metadata": {
        "id": "NzNNN0fKy1OG"
      }
    },
    {
      "cell_type": "code",
      "source": [
        "nltk.download('stopwords')"
      ],
      "metadata": {
        "colab": {
          "base_uri": "https://localhost:8080/"
        },
        "id": "N4B-O9igueEe",
        "outputId": "e8f7c9ec-d0b6-4316-9fc3-b78303cb7c4c"
      },
      "execution_count": null,
      "outputs": [
        {
          "output_type": "stream",
          "name": "stderr",
          "text": [
            "[nltk_data] Downloading package stopwords to /root/nltk_data...\n",
            "[nltk_data]   Package stopwords is already up-to-date!\n"
          ]
        },
        {
          "output_type": "execute_result",
          "data": {
            "text/plain": [
              "True"
            ]
          },
          "metadata": {},
          "execution_count": 12
        }
      ]
    },
    {
      "cell_type": "markdown",
      "source": [
        "### 2.1 Removing Stopwords and Punctuations"
      ],
      "metadata": {
        "id": "JTGZgOcWy5Jb"
      }
    },
    {
      "cell_type": "code",
      "source": [
        "def remove_punc(text):\n",
        "  return text.translate(text.maketrans('', '', string.punctuation))\n",
        "\n",
        "def remove_stopwords(text, stop_words):\n",
        "  text = [word.lower() for word in text.split() if word.lower() not in stop_words]\n",
        "  return ' '.join(text)"
      ],
      "metadata": {
        "id": "LB1jHQlSBI0O"
      },
      "execution_count": null,
      "outputs": []
    },
    {
      "cell_type": "code",
      "source": [
        "stop_words = stopwords.words('english')"
      ],
      "metadata": {
        "id": "iLtdTk8YUz6v"
      },
      "execution_count": null,
      "outputs": []
    },
    {
      "cell_type": "code",
      "source": [
        "data['Description'] = data['Description'].apply(remove_punc)"
      ],
      "metadata": {
        "id": "o33OjitSuANO"
      },
      "execution_count": null,
      "outputs": []
    },
    {
      "cell_type": "code",
      "source": [
        "data['Description'] = data['Description'].apply(remove_stopwords, stop_words = stop_words)"
      ],
      "metadata": {
        "id": "6bLwml6Uw7nG"
      },
      "execution_count": null,
      "outputs": []
    },
    {
      "cell_type": "code",
      "source": [
        "def top_n_words_features(count_vectorizer, text, n_words):\n",
        "    '''\n",
        "    returns a dataframe of the top n words in a sample and their \n",
        "    accompanying counts, given a CountVectorizer object and text sample\n",
        "    '''\n",
        "    vectorized = count_vectorizer.fit_transform(text)\n",
        "    tokens_df = pd.DataFrame(vectorized.todense(), columns = count_vectorizer.get_feature_names_out())\n",
        "    top_df = pd.DataFrame(tokens_df.sum().sort_values(ascending=False).head(n_words)).rename(columns = {0:'Occurences'})\n",
        "    return top_df, len(count_vectorizer.get_feature_names_out())"
      ],
      "metadata": {
        "id": "6ErgZ_Vj2h70"
      },
      "execution_count": null,
      "outputs": []
    },
    {
      "cell_type": "code",
      "source": [
        "vectorizer = CountVectorizer()\n",
        "top_words, n_features = top_n_words_features(vectorizer, data['Description'], 10)"
      ],
      "metadata": {
        "id": "1AfmQSeUzK3X"
      },
      "execution_count": null,
      "outputs": []
    },
    {
      "cell_type": "code",
      "source": [
        "top_words.plot(kind='bar', figsize = (13,7))"
      ],
      "metadata": {
        "colab": {
          "base_uri": "https://localhost:8080/"
        },
        "id": "DoLjNsGO9fFA",
        "outputId": "14899aac-25c7-448e-a41c-7a4093d9e9c6"
      },
      "execution_count": null,
      "outputs": [
        {
          "output_type": "execute_result",
          "data": {
            "text/plain": [
              "<AxesSubplot:>"
            ]
          },
          "metadata": {},
          "execution_count": 19
        },
        {
          "output_type": "display_data",
          "data": {
            "text/plain": [
              "<Figure size 936x504 with 1 Axes>"
            ],
            "image/png": "[encoded data removed]"
          },
          "metadata": {
            "needs_background": "light"
          }
        }
      ]
    },
    {
      "cell_type": "code",
      "source": [
        "n_features"
      ],
      "metadata": {
        "colab": {
          "base_uri": "https://localhost:8080/"
        },
        "id": "q03dQUIWzkJu",
        "outputId": "6325ceed-0b88-42e8-a45b-8c50ecfa4547"
      },
      "execution_count": null,
      "outputs": [
        {
          "output_type": "execute_result",
          "data": {
            "text/plain": [
              "33892"
            ]
          },
          "metadata": {},
          "execution_count": 20
        }
      ]
    },
    {
      "cell_type": "markdown",
      "source": [
        "### 2.2 Data Stemming"
      ],
      "metadata": {
        "id": "Pw7KiKpZzBXo"
      }
    },
    {
      "cell_type": "code",
      "source": [
        "def stemming(text, stemmer):\n",
        "  text = [stemmer.stem(word) for word in text.split()]\n",
        "  return ' '.join(text)"
      ],
      "metadata": {
        "id": "9d_DYF1nz77j"
      },
      "execution_count": null,
      "outputs": []
    },
    {
      "cell_type": "code",
      "source": [
        "sb_stemmer = SnowballStemmer('english')"
      ],
      "metadata": {
        "id": "ozH6ThVoxC7t"
      },
      "execution_count": null,
      "outputs": []
    },
    {
      "cell_type": "code",
      "source": [
        "data['Description'] = data['Description'].apply(stemming, stemmer=sb_stemmer)"
      ],
      "metadata": {
        "id": "mpKVfAHMyRDZ"
      },
      "execution_count": null,
      "outputs": []
    },
    {
      "cell_type": "code",
      "source": [
        "top_words, n_features = top_n_words_features(vectorizer, data['Description'], 10)"
      ],
      "metadata": {
        "id": "HWCHOD-502sp"
      },
      "execution_count": null,
      "outputs": []
    },
    {
      "cell_type": "code",
      "source": [
        "top_words.plot(kind='bar', figsize = (13,7))"
      ],
      "metadata": {
        "colab": {
          "base_uri": "https://localhost:8080/"
        },
        "id": "su1Y7zfm1J6i",
        "outputId": "3d9e3060-3402-493b-d49b-317822e7fa25"
      },
      "execution_count": null,
      "outputs": [
        {
          "output_type": "execute_result",
          "data": {
            "text/plain": [
              "<AxesSubplot:>"
            ]
          },
          "metadata": {},
          "execution_count": 25
        },
        {
          "output_type": "display_data",
          "data": {
            "text/plain": [
              "<Figure size 936x504 with 1 Axes>"
            ],
            "image/png": "[encoded data removed]"
          },
          "metadata": {
            "needs_background": "light"
          }
        }
      ]
    },
    {
      "cell_type": "code",
      "source": [
        "n_features"
      ],
      "metadata": {
        "colab": {
          "base_uri": "https://localhost:8080/"
        },
        "id": "E41QCs8o9xSS",
        "outputId": "8ad40f0f-bfcc-4377-e1bb-f39fe407b548"
      },
      "execution_count": null,
      "outputs": [
        {
          "output_type": "execute_result",
          "data": {
            "text/plain": [
              "24046"
            ]
          },
          "metadata": {},
          "execution_count": 26
        }
      ]
    },
    {
      "cell_type": "markdown",
      "source": [
        "### 2.3 Removing further stopwords and Tokenising"
      ],
      "metadata": {
        "id": "BxWQxl5ES6GD"
      }
    },
    {
      "cell_type": "code",
      "source": [
        "stop_words.extend(['said', 'mr', 'would', 'also', 'could'])\n",
        "data['Description'] = data['Description'].apply(remove_stopwords, stop_words = stop_words)"
      ],
      "metadata": {
        "id": "t6LvZu06TAd4"
      },
      "execution_count": null,
      "outputs": []
    },
    {
      "cell_type": "code",
      "source": [
        "tokeniser = CountVectorizer(max_df = 0.95, min_df = 5)\n",
        "tokenised_data = tokeniser.fit_transform(data['Description'])"
      ],
      "metadata": {
        "id": "jltCy6LqVImf"
      },
      "execution_count": null,
      "outputs": []
    },
    {
      "cell_type": "code",
      "source": [
        "top_words, n_features = top_n_words_features(tokeniser, data['Description'], 10)"
      ],
      "metadata": {
        "id": "V2wtvWDUVKgt"
      },
      "execution_count": null,
      "outputs": []
    },
    {
      "cell_type": "code",
      "source": [
        "top_words.plot(kind = 'bar', figsize = (13,7))"
      ],
      "metadata": {
        "colab": {
          "base_uri": "https://localhost:8080/"
        },
        "id": "fXfqWftNmaKO",
        "outputId": "d7be3b69-ffd2-4575-de06-cd3fd552ea33"
      },
      "execution_count": null,
      "outputs": [
        {
          "output_type": "execute_result",
          "data": {
            "text/plain": [
              "<AxesSubplot:>"
            ]
          },
          "metadata": {},
          "execution_count": 30
        },
        {
          "output_type": "display_data",
          "data": {
            "text/plain": [
              "<Figure size 936x504 with 1 Axes>"
            ],
            "image/png": "[encoded data removed]"
          },
          "metadata": {
            "needs_background": "light"
          }
        }
      ]
    },
    {
      "cell_type": "code",
      "source": [
        "n_features"
      ],
      "metadata": {
        "colab": {
          "base_uri": "https://localhost:8080/"
        },
        "id": "Fvc265WfVUeA",
        "outputId": "0f55dd09-09e0-407d-eae0-193063c4a84a"
      },
      "execution_count": null,
      "outputs": [
        {
          "output_type": "execute_result",
          "data": {
            "text/plain": [
              "6645"
            ]
          },
          "metadata": {},
          "execution_count": 31
        }
      ]
    },
    {
      "cell_type": "markdown",
      "source": [
        "## 3. LDA"
      ],
      "metadata": {
        "id": "M9awiHqqBNyL"
      }
    },
    {
      "cell_type": "markdown",
      "source": [
        "### 3.1 LDA Model Fitting with Hyperparameter tuning"
      ],
      "metadata": {
        "id": "pe2iRuHktpng"
      }
    },
    {
      "cell_type": "code",
      "source": [
        "%%time\n",
        "lda = LatentDirichletAllocation()\n",
        "grid_params = {'n_components' : list(range(5,7))}\n",
        "lda_model = GridSearchCV(lda, param_grid = grid_params)\n",
        "lda_model.fit(tokenised_data)"
      ],
      "metadata": {
        "id": "YKLlcJwMAeIq",
        "colab": {
          "base_uri": "https://localhost:8080/"
        },
        "outputId": "18ccd90d-16ad-4bd0-c350-bfb27226864c"
      },
      "execution_count": null,
      "outputs": [
        {
          "output_type": "stream",
          "name": "stdout",
          "text": [
            "CPU times: user 2min 13s, sys: 682 ms, total: 2min 14s\n",
            "Wall time: 2min 17s\n"
          ]
        },
        {
          "output_type": "execute_result",
          "data": {
            "text/plain": [
              "GridSearchCV(estimator=LatentDirichletAllocation(),\n",
              "             param_grid={'n_components': [5, 6]})"
            ],
            "text/html": [
              "<style>#sk-container-id-1 {color: black;background-color: white;}#sk-container-id-1 pre{padding: 0;}#sk-container-id-1 div.sk-toggleable {background-color: white;}#sk-container-id-1 label.sk-toggleable__label {cursor: pointer;display: block;width: 100%;margin-bottom: 0;padding: 0.3em;box-sizing: border-box;text-align: center;}#sk-container-id-1 label.sk-toggleable__label-arrow:before {content: \"▸\";float: left;margin-right: 0.25em;color: #696969;}#sk-container-id-1 label.sk-toggleable__label-arrow:hover:before {color: black;}#sk-container-id-1 div.sk-estimator:hover label.sk-toggleable__label-arrow:before {color: black;}#sk-container-id-1 div.sk-toggleable__content {max-height: 0;max-width: 0;overflow: hidden;text-align: left;background-color: #f0f8ff;}#sk-container-id-1 div.sk-toggleable__content pre {margin: 0.2em;color: black;border-radius: 0.25em;background-color: #f0f8ff;}#sk-container-id-1 input.sk-toggleable__control:checked~div.sk-toggleable__content {max-height: 200px;max-width: 100%;overflow: auto;}#sk-container-id-1 input.sk-toggleable__control:checked~label.sk-toggleable__label-arrow:before {content: \"▾\";}#sk-container-id-1 div.sk-estimator input.sk-toggleable__control:checked~label.sk-toggleable__label {background-color: #d4ebff;}#sk-container-id-1 div.sk-label input.sk-toggleable__control:checked~label.sk-toggleable__label {background-color: #d4ebff;}#sk-container-id-1 input.sk-hidden--visually {border: 0;clip: rect(1px 1px 1px 1px);clip: rect(1px, 1px, 1px, 1px);height: 1px;margin: -1px;overflow: hidden;padding: 0;position: absolute;width: 1px;}#sk-container-id-1 div.sk-estimator {font-family: monospace;background-color: #f0f8ff;border: 1px dotted black;border-radius: 0.25em;box-sizing: border-box;margin-bottom: 0.5em;}#sk-container-id-1 div.sk-estimator:hover {background-color: #d4ebff;}#sk-container-id-1 div.sk-parallel-item::after {content: \"\";width: 100%;border-bottom: 1px solid gray;flex-grow: 1;}#sk-container-id-1 div.sk-label:hover label.sk-toggleable__label {background-color: #d4ebff;}#sk-container-id-1 div.sk-serial::before {content: \"\";position: absolute;border-left: 1px solid gray;box-sizing: border-box;top: 0;bottom: 0;left: 50%;z-index: 0;}#sk-container-id-1 div.sk-serial {display: flex;flex-direction: column;align-items: center;background-color: white;padding-right: 0.2em;padding-left: 0.2em;position: relative;}#sk-container-id-1 div.sk-item {position: relative;z-index: 1;}#sk-container-id-1 div.sk-parallel {display: flex;align-items: stretch;justify-content: center;background-color: white;position: relative;}#sk-container-id-1 div.sk-item::before, #sk-container-id-1 div.sk-parallel-item::before {content: \"\";position: absolute;border-left: 1px solid gray;box-sizing: border-box;top: 0;bottom: 0;left: 50%;z-index: -1;}#sk-container-id-1 div.sk-parallel-item {display: flex;flex-direction: column;z-index: 1;position: relative;background-color: white;}#sk-container-id-1 div.sk-parallel-item:first-child::after {align-self: flex-end;width: 50%;}#sk-container-id-1 div.sk-parallel-item:last-child::after {align-self: flex-start;width: 50%;}#sk-container-id-1 div.sk-parallel-item:only-child::after {width: 0;}#sk-container-id-1 div.sk-dashed-wrapped {border: 1px dashed gray;margin: 0 0.4em 0.5em 0.4em;box-sizing: border-box;padding-bottom: 0.4em;background-color: white;}#sk-container-id-1 div.sk-label label {font-family: monospace;font-weight: bold;display: inline-block;line-height: 1.2em;}#sk-container-id-1 div.sk-label-container {text-align: center;}#sk-container-id-1 div.sk-container {/* jupyter's `normalize.less` sets `[hidden] { display: none; }` but bootstrap.min.css set `[hidden] { display: none !important; }` so we also need the `!important` here to be able to override the default hidden behavior on the sphinx rendered scikit-learn.org. See: https://github.com/scikit-learn/scikit-learn/issues/21755 */display: inline-block !important;position: relative;}#sk-container-id-1 div.sk-text-repr-fallback {display: none;}</style><div id=\"sk-container-id-1\" class=\"sk-top-container\"><div class=\"sk-text-repr-fallback\"><pre>GridSearchCV(estimator=LatentDirichletAllocation(),\n",
              "             param_grid={&#x27;n_components&#x27;: [5, 6]})</pre><b>In a Jupyter environment, please rerun this cell to show the HTML representation or trust the notebook. <br />On GitHub, the HTML representation is unable to render, please try loading this page with nbviewer.org.</b></div><div class=\"sk-container\" hidden><div class=\"sk-item sk-dashed-wrapped\"><div class=\"sk-label-container\"><div class=\"sk-label sk-toggleable\"><input class=\"sk-toggleable__control sk-hidden--visually\" id=\"sk-estimator-id-1\" type=\"checkbox\" ><label for=\"sk-estimator-id-1\" class=\"sk-toggleable__label sk-toggleable__label-arrow\">GridSearchCV</label><div class=\"sk-toggleable__content\"><pre>GridSearchCV(estimator=LatentDirichletAllocation(),\n",
              "             param_grid={&#x27;n_components&#x27;: [5, 6]})</pre></div></div></div><div class=\"sk-parallel\"><div class=\"sk-parallel-item\"><div class=\"sk-item\"><div class=\"sk-label-container\"><div class=\"sk-label sk-toggleable\"><input class=\"sk-toggleable__control sk-hidden--visually\" id=\"sk-estimator-id-2\" type=\"checkbox\" ><label for=\"sk-estimator-id-2\" class=\"sk-toggleable__label sk-toggleable__label-arrow\">estimator: LatentDirichletAllocation</label><div class=\"sk-toggleable__content\"><pre>LatentDirichletAllocation()</pre></div></div></div><div class=\"sk-serial\"><div class=\"sk-item\"><div class=\"sk-estimator sk-toggleable\"><input class=\"sk-toggleable__control sk-hidden--visually\" id=\"sk-estimator-id-3\" type=\"checkbox\" ><label for=\"sk-estimator-id-3\" class=\"sk-toggleable__label sk-toggleable__label-arrow\">LatentDirichletAllocation</label><div class=\"sk-toggleable__content\"><pre>LatentDirichletAllocation()</pre></div></div></div></div></div></div></div></div></div></div>"
            ]
          },
          "metadata": {},
          "execution_count": 32
        }
      ]
    },
    {
      "cell_type": "code",
      "source": [
        "best_lda_model = lda_model.best_estimator_\n",
        "print(\"Parameters on Best LDA Model\" , lda_model.best_params_)\n",
        "print(\"Best log likelihood Score for the LDA model\",lda_model.best_score_)\n",
        "print(\"LDA model Perplexity on data\", best_lda_model.perplexity(tokenised_data))"
      ],
      "metadata": {
        "colab": {
          "base_uri": "https://localhost:8080/"
        },
        "id": "XPcOVubRBYr0",
        "outputId": "90f70d93-0b7b-4ec6-f68f-d56f92147320"
      },
      "execution_count": null,
      "outputs": [
        {
          "output_type": "stream",
          "name": "stdout",
          "text": [
            "Parameters on Best LDA Model {'n_components': 5}\n",
            "Best log likelihood Score for the LDA model -717268.8047909426\n",
            "LDA model Perplexity on data 1953.1953326159287\n"
          ]
        }
      ]
    },
    {
      "cell_type": "code",
      "source": [
        "!pip install pyLDAvis"
      ],
      "metadata": {
        "colab": {
          "base_uri": "https://localhost:8080/"
        },
        "id": "daM2q9MgBweJ",
        "outputId": "187172d6-efe6-4075-8640-920b54913e70"
      },
      "execution_count": null,
      "outputs": [
        {
          "output_type": "stream",
          "name": "stdout",
          "text": [
            "Looking in indexes: https://pypi.org/simple, https://us-python.pkg.dev/colab-wheels/public/simple/\n",
            "Requirement already satisfied: pyLDAvis in /usr/local/lib/python3.8/dist-packages (3.4.0)\n",
            "Requirement already satisfied: pandas>=1.3.4 in /usr/local/lib/python3.8/dist-packages (from pyLDAvis) (1.3.5)\n",
            "Requirement already satisfied: gensim in /usr/local/lib/python3.8/dist-packages (from pyLDAvis) (3.6.0)\n",
            "Requirement already satisfied: scipy in /usr/local/lib/python3.8/dist-packages (from pyLDAvis) (1.10.1)\n",
            "Requirement already satisfied: numpy>=1.22.0 in /usr/local/lib/python3.8/dist-packages (from pyLDAvis) (1.22.4)\n",
            "Requirement already satisfied: joblib>=1.2.0 in /usr/local/lib/python3.8/dist-packages (from pyLDAvis) (1.2.0)\n",
            "Requirement already satisfied: jinja2 in /usr/local/lib/python3.8/dist-packages (from pyLDAvis) (3.1.2)\n",
            "Requirement already satisfied: setuptools in /usr/local/lib/python3.8/dist-packages (from pyLDAvis) (57.4.0)\n",
            "Requirement already satisfied: scikit-learn>=1.0.0 in /usr/local/lib/python3.8/dist-packages (from pyLDAvis) (1.2.1)\n",
            "Requirement already satisfied: funcy in /usr/local/lib/python3.8/dist-packages (from pyLDAvis) (1.18)\n",
            "Requirement already satisfied: numexpr in /usr/local/lib/python3.8/dist-packages (from pyLDAvis) (2.8.4)\n",
            "Requirement already satisfied: pytz>=2017.3 in /usr/local/lib/python3.8/dist-packages (from pandas>=1.3.4->pyLDAvis) (2022.7.1)\n",
            "Requirement already satisfied: python-dateutil>=2.7.3 in /usr/local/lib/python3.8/dist-packages (from pandas>=1.3.4->pyLDAvis) (2.8.2)\n",
            "Requirement already satisfied: threadpoolctl>=2.0.0 in /usr/local/lib/python3.8/dist-packages (from scikit-learn>=1.0.0->pyLDAvis) (3.1.0)\n",
            "Requirement already satisfied: smart-open>=1.2.1 in /usr/local/lib/python3.8/dist-packages (from gensim->pyLDAvis) (6.3.0)\n",
            "Requirement already satisfied: six>=1.5.0 in /usr/local/lib/python3.8/dist-packages (from gensim->pyLDAvis) (1.15.0)\n",
            "Requirement already satisfied: MarkupSafe>=2.0 in /usr/local/lib/python3.8/dist-packages (from jinja2->pyLDAvis) (2.1.2)\n"
          ]
        }
      ]
    },
    {
      "cell_type": "code",
      "source": [
        "import pyLDAvis.sklearn\n",
        "pyLDAvis.enable_notebook()"
      ],
      "metadata": {
        "id": "l_zGyGMiB0fS"
      },
      "execution_count": null,
      "outputs": []
    },
    {
      "cell_type": "code",
      "source": [
        "lda_panel = pyLDAvis.sklearn.prepare(best_lda_model, tokenised_data, tokeniser, mds='tsne')\n",
        "lda_panel"
      ],
      "metadata": {
        "colab": {
          "base_uri": "https://localhost:8080/",
          "height": 916
        },
        "id": "47OAvzCXB3_b",
        "outputId": "9cc2fa6b-e698-4d2d-ddda-7572f4304ee7"
      },
      "execution_count": null,
      "outputs": [
        {
          "output_type": "stream",
          "name": "stderr",
          "text": [
            "/usr/local/lib/python3.8/dist-packages/pyLDAvis/_prepare.py:243: FutureWarning: In a future version of pandas all arguments of DataFrame.drop except for the argument 'labels' will be keyword-only\n",
            "  default_term_info = default_term_info.sort_values(\n"
          ]
        },
        {
          "output_type": "execute_result",
          "data": {
            "text/plain": [
              "PreparedData(topic_coordinates=               x          y  topics  cluster       Freq\n",
              "topic                                                  \n",
              "3      13.470154  56.014492       1        1  26.284025\n",
              "2      62.617260 -14.121579       2        1  23.830419\n",
              "1      13.198150 -11.483940       3        1  20.577509\n",
              "0      58.884434  36.739826       4        1  20.421170\n",
              "4     -23.795902  21.091379       5        1   8.886877, topic_info=        Term         Freq        Total Category  logprob  loglift\n",
              "2620    game  1528.000000  1528.000000  Default  30.0000  30.0000\n",
              "2416    film  1008.000000  1008.000000  Default  29.0000  29.0000\n",
              "2730  govern  1204.000000  1204.000000  Default  28.0000  28.0000\n",
              "5181    sale   661.000000   661.000000  Default  27.0000  27.0000\n",
              "3464  labour   731.000000   731.000000  Default  26.0000  26.0000\n",
              "...      ...          ...          ...      ...      ...      ...\n",
              "2709      go   113.400374  1142.009163   Topic5  -5.7729   0.1110\n",
              "3121  includ   107.757997   795.619470   Topic5  -5.8240   0.4214\n",
              "6569    work   110.066493  1007.968263   Topic5  -5.8028   0.2060\n",
              "6297     use   110.357232  1420.381922   Topic5  -5.8001  -0.1344\n",
              "4467   peopl   109.644371  1864.166867   Topic5  -5.8066  -0.4127\n",
              "\n",
              "[405 rows x 6 columns], token_table=      Topic      Freq     Term\n",
              "term                          \n",
              "164       1  0.122224     2004\n",
              "164       2  0.031429     2004\n",
              "164       3  0.162384     2004\n",
              "164       4  0.550010     2004\n",
              "164       5  0.134447     2004\n",
              "...     ...       ...      ...\n",
              "6614      2  0.109464     year\n",
              "6614      3  0.144447     year\n",
              "6614      4  0.359237     year\n",
              "6614      5  0.105326     year\n",
              "6633      2  0.989337  yugansk\n",
              "\n",
              "[896 rows x 3 columns], R=30, lambda_step=0.01, plot_opts={'xlab': 'PC1', 'ylab': 'PC2'}, topic_order=[4, 3, 2, 1, 5])"
            ],
            "text/html": [
              "\n",
              "<link rel=\"stylesheet\" type=\"text/css\" href=\"https://cdn.jsdelivr.net/gh/bmabey/pyLDAvis@3.4.0/pyLDAvis/js/ldavis.v1.0.0.css\">\n",
              "\n",
              "\n",
              "<div id=\"ldavis_el78171397796301156327899290062\" style=\"background-color:white;\"></div>\n",
              "<script type=\"text/javascript\">\n",
              "\n",
              "var ldavis_el78171397796301156327899290062_data = {\"mdsDat\": {\"x\": [13.47015380859375, 62.61725997924805, 13.198149681091309, 58.88443374633789, -23.795902252197266], \"y\": [56.01449203491211, -14.12157917022705, -11.483940124511719, 36.73982620239258, 21.091379165649414], \"topics\": [1, 2, 3, 4, 5], \"cluster\": [1, 1, 1, 1, 1], \"Freq\": [26.284024850244634, 23.83041907641951, 20.577509408172634, 20.421169914086796, 8.886876751076409]}, \"tinfo\": {\"Term\": [\"game\", \"film\", \"govern\", \"sale\", \"labour\", \"parti\", \"elect\", \"compani\", \"phone\", \"use\", \"mobil\", \"play\", \"technolog\", \"bank\", \"blair\", \"peopl\", \"market\", \"minist\", \"tori\", \"user\", \"win\", \"economi\", \"firm\", \"music\", \"growth\", \"year\", \"comput\", \"network\", \"price\", \"econom\", \"cup\", \"coach\", \"rugbi\", \"championship\", \"squad\", \"robinson\", \"roddick\", \"champion\", \"indoor\", \"slam\", \"refere\", \"tournament\", \"striker\", \"glazer\", \"tenni\", \"mourinho\", \"nadal\", \"ebber\", \"midfield\", \"ogara\", \"hodgson\", \"fa\", \"chelsea\", \"celtic\", \"ranger\", \"woodward\", \"seed\", \"henman\", \"halftim\", \"arsenal\", \"singer\", \"injuri\", \"captain\", \"match\", \"andi\", \"score\", \"irish\", \"ball\", \"victori\", \"premiership\", \"win\", \"band\", \"season\", \"beat\", \"ireland\", \"album\", \"club\", \"england\", \"play\", \"side\", \"team\", \"im\", \"star\", \"footbal\", \"william\", \"minut\", \"final\", \"winner\", \"best\", \"player\", \"goal\", \"wale\", \"second\", \"first\", \"game\", \"six\", \"two\", \"last\", \"year\", \"one\", \"world\", \"time\", \"back\", \"go\", \"award\", \"three\", \"open\", \"good\", \"take\", \"new\", \"get\", \"us\", \"tori\", \"liber\", \"mps\", \"dem\", \"lib\", \"immigr\", \"ukip\", \"kilroysilk\", \"mp\", \"blunkett\", \"asylum\", \"constitut\", \"gazprom\", \"blair\", \"elector\", \"yugansk\", \"rosneft\", \"manifesto\", \"constitu\", \"detain\", \"westminst\", \"parti\", \"referendum\", \"jewish\", \"khodorkovski\", \"prescott\", \"detent\", \"labour\", \"elect\", \"goldsmith\", \"democrat\", \"conserv\", \"chancellor\", \"secretari\", \"polit\", \"poster\", \"prime\", \"lord\", \"polic\", \"parliament\", \"kennedi\", \"brown\", \"howard\", \"toni\", \"minist\", \"law\", \"leader\", \"campaign\", \"govern\", \"council\", \"voter\", \"tax\", \"issu\", \"public\", \"say\", \"plan\", \"claim\", \"court\", \"peopl\", \"told\", \"vote\", \"right\", \"new\", \"work\", \"one\", \"make\", \"want\", \"go\", \"year\", \"user\", \"broadband\", \"appl\", \"oscar\", \"camera\", \"web\", \"googl\", \"dvd\", \"handset\", \"bt\", \"3g\", \"spam\", \"ipod\", \"phone\", \"highdefinit\", \"kenteri\", \"iaaf\", \"laptop\", \"nomine\", \"browser\", \"yahoo\", \"dvds\", \"foxx\", \"thanou\", \"storag\", \"piraci\", \"domain\", \"mobil\", \"bafta\", \"desktop\", \"digit\", \"technolog\", \"network\", \"gadget\", \"program\", \"softwar\", \"comput\", \"site\", \"download\", \"virus\", \"internet\", \"film\", \"tv\", \"search\", \"content\", \"broadcast\", \"blog\", \"use\", \"net\", \"microsoft\", \"email\", \"websit\", \"peopl\", \"music\", \"servic\", \"data\", \"onlin\", \"million\", \"system\", \"show\", \"inform\", \"one\", \"make\", \"like\", \"work\", \"get\", \"new\", \"mani\", \"year\", \"way\", \"firm\", \"uk\", \"us\", \"export\", \"economist\", \"oil\", \"deutsch\", \"patent\", \"currenc\", \"boers\", \"lse\", \"imf\", \"creditor\", \"airlin\", \"gas\", \"sri\", \"boe\", \"bank\", \"crude\", \"settlement\", \"indonesia\", \"insur\", \"cont\", \"lanka\", \"mci\", \"gdp\", \"worldcom\", \"euronext\", \"rupe\", \"tobacco\", \"aircraft\", \"china\", \"airbus\", \"debt\", \"investor\", \"sharehold\", \"growth\", \"sector\", \"india\", \"economi\", \"inflat\", \"bankruptci\", \"stock\", \"euro\", \"econom\", \"deficit\", \"exchang\", \"fraud\", \"rate\", \"financi\", \"price\", \"invest\", \"profit\", \"rise\", \"trade\", \"forecast\", \"market\", \"compani\", \"dollar\", \"share\", \"quarter\", \"analyst\", \"firm\", \"us\", \"busi\", \"year\", \"countri\", \"increas\", \"2004\", \"report\", \"month\", \"cost\", \"expect\", \"govern\", \"last\", \"world\", \"new\", \"howev\", \"gamer\", \"xbox\", \"fiat\", \"nintendo\", \"gm\", \"parri\", \"ds\", \"halo\", \"ea\", \"carmak\", \"bmw\", \"walmart\", \"playstat\", \"shopper\", \"nissan\", \"halflif\", \"mitsubishi\", \"sim\", \"simul\", \"immers\", \"gms\", \"countrysid\", \"franchis\", \"consol\", \"gameplay\", \"toyota\", \"painkil\", \"multiplay\", \"morient\", \"saab\", \"car\", \"robot\", \"psp\", \"disney\", \"osbourn\", \"foster\", \"hunt\", \"vehicl\", \"gerrard\", \"motor\", \"game\", \"graphic\", \"handheld\", \"sale\", \"shop\", \"sold\", \"soni\", \"releas\", \"label\", \"sell\", \"store\", \"liverpool\", \"new\", \"develop\", \"titl\", \"industri\", \"year\", \"play\", \"like\", \"make\", \"expect\", \"time\", \"one\", \"us\", \"compani\", \"uk\", \"group\", \"part\", \"get\", \"last\", \"world\", \"go\", \"includ\", \"work\", \"use\", \"peopl\"], \"Freq\": [1528.0, 1008.0, 1204.0, 661.0, 731.0, 728.0, 677.0, 1043.0, 529.0, 1420.0, 535.0, 1116.0, 598.0, 500.0, 514.0, 1864.0, 841.0, 696.0, 461.0, 390.0, 810.0, 424.0, 876.0, 808.0, 408.0, 2658.0, 399.0, 374.0, 484.0, 401.0, 270.90302778242096, 265.9606990407172, 204.94982946173002, 149.8233337449477, 136.03897599136903, 122.25418330113362, 114.38688919291796, 267.67243921778396, 97.65037679871912, 95.68310579075307, 93.71393482728627, 86.8211168351861, 76.94199249982533, 69.09505893137694, 67.13253044099235, 63.19726139114447, 61.22939378159714, 61.18684732836618, 57.267926710477624, 53.35441500308494, 52.36947834740538, 52.366607899537755, 184.19520140865328, 51.38316920167156, 50.39726588982782, 48.42798619825978, 102.65165387856602, 47.44795992916066, 47.447206422260685, 143.2631662722554, 130.5145652770369, 240.13411599801645, 114.40980944115756, 340.3580446307938, 111.86892820793955, 171.00578379879914, 128.67790394376019, 145.39036261319347, 200.4983137859647, 95.73950493203819, 677.6516804106602, 219.200646845967, 247.9117388911482, 224.33547521214962, 273.18465380755583, 183.77211847115979, 345.75874990910637, 460.9508484782954, 803.2944353607493, 313.8009717121281, 330.87491362452283, 297.1039649782621, 370.90947668934734, 166.9167434571727, 210.76652706327963, 241.4684578132674, 318.37344425851353, 190.17254489247236, 557.7008560551025, 474.9799107251269, 190.5348555749796, 271.3514080845216, 381.3387715645643, 601.8187015068363, 646.0402256259766, 285.80008110158576, 485.010898135194, 527.1811386975421, 747.3035059439842, 564.8712993068218, 455.9207777906611, 483.5633902296983, 387.22664595207317, 430.2903453261771, 325.1696893771102, 348.7843225449888, 320.8244719417243, 328.55787643512133, 355.1058858832373, 354.3724849679664, 321.3794889039811, 323.0130796900641, 460.4831266841176, 181.12990538785502, 180.13549403441388, 159.25963512343452, 158.26556634453988, 153.29220179213192, 119.49481214256365, 102.59445672618988, 98.61635242010466, 94.64140188224775, 90.66498664463987, 82.53809240118595, 71.69538277820892, 508.5157964383886, 59.84532593400426, 58.838438888508655, 57.84425488712232, 53.88135821061062, 51.89267111215029, 47.915897414450235, 41.950898620620784, 714.879570055714, 38.96889780142006, 38.96781565081869, 38.95991504725465, 37.958322878723756, 35.987594975227935, 715.7755553585398, 663.211282125532, 34.993101409433415, 183.0599063681635, 241.68038043833062, 239.53357156513042, 271.64724566974394, 315.71065118668497, 75.99280485623005, 287.9412305032976, 349.7803752764581, 253.56733977185, 145.26649536046662, 113.40533236753527, 381.6996830707998, 300.385120408751, 198.92994699562826, 570.3556406039876, 364.4993214608849, 305.13528174166044, 346.1596157174722, 825.6795825382192, 207.2335271646894, 140.76646884369578, 372.9961096005694, 360.11895791315237, 401.86570567246997, 765.5255506267808, 475.68613367126903, 365.9116088936979, 272.7549778367895, 705.4097166896283, 438.71851426402657, 268.12808496356763, 346.21310329210024, 411.8193388756214, 319.7381595997529, 334.3821955743928, 305.5574487672757, 295.1687884052253, 299.77082466317586, 291.4118368967601, 389.56323983252594, 221.85121006276057, 156.13651426104073, 155.9973134800802, 141.36344346517086, 152.0743781304203, 109.06018688258501, 108.07358349677402, 99.2249395294554, 93.36800932063741, 74.7351117495101, 73.75389215434478, 70.80962038715089, 523.3516067387325, 61.00211360911142, 58.057677857433745, 56.08468246612393, 55.11756045522743, 57.04379218920263, 52.17709805370162, 52.173868193912504, 51.19147528521781, 51.1906005176259, 50.21166285081305, 50.21015586810733, 51.160997769015815, 45.31030907680084, 526.130497937733, 44.32393143663577, 43.349285275190915, 327.14419266980326, 565.7100303825721, 356.7869663824234, 176.1201915236796, 189.6559889638977, 282.2596624131552, 376.37797923065614, 277.62487771899725, 200.9791261333923, 142.18685813078116, 248.89129366847553, 876.8189141123753, 375.555970214023, 204.56102919397432, 173.76921001420322, 167.5372877179383, 120.55704885605917, 926.2628432582053, 296.56988179201954, 185.05861564052458, 161.86694963285464, 237.02221625074807, 865.5272868819898, 455.2305410320991, 436.26395253021144, 213.25455379603355, 222.61649677275022, 322.3126287492362, 276.6876503195784, 360.62048382016616, 229.4775601674304, 424.0662555036831, 360.36021980425744, 332.60218450353307, 318.7169983967266, 325.34652808851763, 373.20689716545814, 288.3533688050434, 384.1096825422398, 272.58857951705875, 276.1832223608251, 262.3377250722413, 266.21337475870945, 145.53074782340713, 112.13813664385269, 277.87684236302016, 105.26783813049896, 89.53881599007764, 67.95347033834958, 64.02693370756047, 60.098922900061304, 54.20604154338912, 53.22387555757235, 153.81074844883932, 62.85089040442926, 50.275162425379065, 49.29591099661589, 492.8802232708622, 46.343411259151345, 50.19976627826023, 45.3640089292853, 96.50124770178464, 42.41456795758469, 40.45636732332847, 43.326872674478196, 37.51027559136694, 55.77175843204949, 36.530701111640866, 36.528032539665574, 34.564483522595026, 33.583719470218035, 273.3098435864127, 31.62000536833063, 180.97571315823203, 143.45997367474388, 123.39134842213336, 386.45417048359866, 139.24837196583863, 178.51700417297693, 388.0242605607133, 91.76920824500844, 91.68177998057158, 184.95666209403234, 223.1368547935959, 352.6835035421436, 119.01195093149914, 148.59939766151882, 110.77018076406208, 367.1426224939325, 232.23577574787026, 401.44159328029673, 248.4160128945083, 237.69867461479373, 333.9985207878565, 282.69957846859944, 117.12077473051919, 559.5108829650849, 666.6489480115977, 207.7858300230881, 367.2899174986545, 193.4119371256785, 276.4629473856375, 503.91535679999566, 796.8057453302722, 309.7118579247879, 955.4537157577064, 418.02875096939067, 319.131956929298, 314.72436816675696, 372.8560252767627, 371.42675553033985, 260.6383161756693, 309.8702412899184, 377.0143458136918, 347.16031787070267, 312.8229918120139, 330.0013644469309, 259.57087746071045, 85.45335758845728, 75.74350393323087, 64.13869732653428, 79.37500684781673, 53.4803164987036, 50.564488020939, 49.605857253023586, 38.94779955577684, 37.01067757669393, 33.11682248048744, 29.259155603145807, 29.25707816163633, 46.0992741195767, 26.343636588554432, 22.47545136737261, 21.50730109776899, 20.536606968396374, 19.566433222499544, 18.599358678196413, 19.492486022914466, 17.631705681294143, 17.62816431443562, 16.654665044232146, 116.99551545607545, 14.72661359516811, 14.723244071432104, 15.598372389863083, 13.75751008940824, 13.75067382178337, 13.750195544722812, 176.6722540231288, 62.151867529198306, 33.56582316199049, 30.881518573709812, 25.359310792638052, 41.70958130458665, 115.20287373955276, 65.43531352572134, 65.49452235246996, 41.71034887395592, 841.0808124561769, 56.902767637066816, 47.74144814227561, 374.1933659785771, 63.53688622005788, 114.1498005782406, 93.6783017477299, 160.9770229648544, 56.17302288239484, 96.3914124804164, 73.4130963502909, 77.54340011220816, 302.4805856490791, 138.09439647183416, 108.96197428392571, 126.88561804046094, 280.13034728097693, 172.79552851925146, 172.4237554247832, 171.58324518546172, 138.1618989036196, 169.9776181480501, 158.25824436400202, 158.17995239217274, 135.8164047191813, 129.4901230119201, 108.88278795437968, 107.9652370794128, 119.05929966904063, 123.0383278487253, 117.38771621544792, 113.40037378405671, 107.75799749044646, 110.06649283787203, 110.35723215552625, 109.64437051276109], \"Total\": [1528.0, 1008.0, 1204.0, 661.0, 731.0, 728.0, 677.0, 1043.0, 529.0, 1420.0, 535.0, 1116.0, 598.0, 500.0, 514.0, 1864.0, 841.0, 696.0, 461.0, 390.0, 810.0, 424.0, 876.0, 808.0, 408.0, 2658.0, 399.0, 374.0, 484.0, 401.0, 271.69174584117417, 266.76970115400076, 205.73702423636811, 150.61066040351088, 136.82906151697836, 123.04753460450036, 115.17231821282549, 269.73533394009746, 98.43752771744509, 96.4687429165098, 94.49994951882816, 87.6091174444861, 77.76458373435035, 69.8899525903891, 67.92117242235764, 63.98357465532537, 62.01477427297914, 62.01473241473127, 58.07681437147035, 54.13958584148038, 53.15518408676137, 53.15517619397385, 187.00379957208924, 52.17078673622749, 51.18637228315202, 49.21759131125748, 104.34058279372903, 48.233192585328545, 48.233189149752874, 145.66430402948208, 132.88568025256046, 247.05129588378495, 117.1104982147462, 363.2989386890003, 116.19120392965262, 180.15842078245296, 134.8254892421296, 153.60665797749357, 214.70321013403435, 99.45055622700838, 810.8316341149081, 242.20615003922046, 278.3524285486035, 250.99139418668264, 312.18228706198664, 203.49591529151684, 411.9423996934624, 580.5053203105788, 1116.649456380559, 382.2975591749686, 409.01528150157696, 361.48785538370043, 470.10685331178695, 183.94315271306405, 245.155094435944, 291.3340673677207, 415.51173435684075, 216.52136734039973, 869.4010065736599, 740.194221216902, 217.34059530675404, 365.0657448157135, 609.1002288398972, 1205.858491465425, 1528.9342187972077, 425.3768996965813, 1104.6378007604126, 1317.6993867601977, 2658.4090884216675, 1684.9572703379283, 1126.3556724872778, 1400.458235169651, 856.2314855060733, 1142.009162795508, 579.84286829213, 716.9989918621902, 570.465041874159, 675.0575975135547, 1050.9948070138762, 1771.8806711050559, 1080.253973055946, 1686.1486763812552, 461.26710747577533, 181.9148136668174, 180.92067018268733, 160.04382420266504, 159.04968923419867, 154.07896487659423, 120.27838312261358, 103.37806682298732, 99.40149765375804, 95.42497833574903, 91.44843581021642, 83.49322273832368, 72.55885783160194, 514.8951109121684, 60.63019366513159, 59.63589901777524, 58.6417612698772, 54.66538715450011, 52.677110000437835, 48.70056237395345, 42.735735469049544, 728.5049921688654, 39.753339293198344, 39.75330184451452, 39.75322730084462, 38.7590004626489, 36.770944030838805, 731.487803792123, 677.8180985375924, 35.77679733316125, 187.8304087154186, 249.42651816890228, 250.38588432578112, 287.0971301505555, 334.7857732993837, 78.4802991445741, 305.9688792606695, 374.3556132271599, 270.1051620681547, 152.99905501522602, 118.24979755667815, 423.0439392175521, 330.726781147924, 216.5252673395705, 696.3255168255891, 436.4833177686507, 358.1814659954285, 414.6945132176567, 1204.1915875767804, 245.06428316243498, 152.9299552558393, 517.1563582190805, 499.04922899594504, 584.0883455390285, 1477.323306719443, 790.7447018179777, 569.0377843660771, 378.49410565249724, 1864.1668674126038, 861.4021692575593, 375.5836934145044, 633.4916789133239, 1771.8806711050559, 1007.9682633287129, 1684.9572703379283, 1252.6780462638415, 909.0935551441963, 1142.009162795508, 2658.4090884216675, 390.3530858522286, 222.6391131924734, 156.92663647130524, 156.92711910791226, 142.21532036640443, 153.00532011485166, 109.8490157053612, 108.86816170030403, 100.04081610625255, 94.15648086955365, 75.52159015560055, 74.54081288301359, 71.59842731046226, 529.6446720850395, 61.79059207989472, 58.8483047700055, 56.88678068692165, 55.90590324993066, 57.867621392905605, 52.96357042118433, 52.96353340450579, 51.98273368192339, 51.98278763623888, 51.00203547849477, 51.00195683054089, 51.98279104548259, 46.09808268162158, 535.4131652995543, 45.11730133888857, 44.13651837523086, 335.37214594690954, 598.1006667309514, 374.6694285472317, 182.35999019688268, 197.1471148900589, 297.06172066138566, 399.90314405534207, 295.16333942781904, 213.6658654848602, 149.0968280870965, 267.8703472676946, 1008.2276896473261, 426.54411853959596, 231.6737098845871, 196.19491617080422, 189.3868392902221, 131.5634184225931, 1420.3819219560914, 375.80953903284933, 219.28589081238434, 186.64794342926905, 309.0603440524441, 1864.1668674126038, 808.5015675243084, 765.9688318473221, 286.50799696989014, 308.9550367704804, 604.786917404057, 475.9185318907981, 923.0495005953303, 356.1971439885843, 1684.9572703379283, 1252.6780462638415, 1134.9631194472377, 1007.9682633287129, 1080.253973055946, 1771.8806711050559, 765.427638667501, 2658.4090884216675, 776.9632239644245, 876.8866704623786, 952.9676761816364, 1686.1486763812552, 146.31933535803498, 112.93107195946084, 279.88737016175156, 106.05698519027952, 90.3447871353803, 68.74063055386416, 64.81261305767255, 60.88457764248804, 54.99253132978808, 54.01051640672518, 156.1583774039749, 63.83058527538571, 51.06448890781205, 50.082483425981735, 500.82203892715273, 47.136459777568305, 51.064962677304436, 46.154466577674626, 98.21215816475008, 43.20843830858048, 41.244401409161306, 44.19061548123408, 38.29835496624604, 56.957525957163284, 37.31636679242848, 37.31633816400383, 35.352376387975404, 34.370335039441876, 279.8653814626862, 32.406319136501004, 186.63847297918477, 148.22940394908045, 127.61462233156374, 408.41380493489714, 144.3641711665783, 186.5857277644079, 424.6651735656038, 96.28235774828545, 96.25550071717676, 201.1037363044696, 245.25511462634603, 401.2423594657366, 126.69591755783247, 162.02907503971494, 118.87856910645674, 431.27035649648764, 264.1494326939533, 484.3923324280953, 291.1755323351264, 279.3534332420759, 412.719501887006, 347.7237506573728, 127.67898387415265, 841.0155463906765, 1043.70912554357, 256.2429897374355, 527.6579282928803, 235.64507083951406, 375.64638156039325, 876.8866704623786, 1686.1486763812552, 474.5439055653934, 2658.4090884216675, 792.6650434774474, 557.7361474421787, 572.7173302962407, 812.1331157498006, 820.7971235272715, 457.4292992529216, 722.7128742856307, 1204.1915875767804, 1317.6993867601977, 1126.3556724872778, 1771.8806711050559, 490.05440052281887, 86.2433908332191, 76.55486173047844, 64.92805152869465, 80.43337481567889, 54.27039517623132, 51.36392037488127, 50.39486487709007, 39.73720405139687, 37.799438523211, 33.92419104476214, 30.048416069069177, 30.048455891558635, 47.49560052425306, 27.141900635005904, 23.266286123391932, 22.29739616347596, 21.32854431642753, 20.359682653148084, 19.390789690109514, 20.360599952407092, 18.42188422580724, 18.421982008666692, 17.45312232592153, 123.14388156611555, 15.515226788917742, 15.515273928828305, 16.48655566797334, 14.54635062454544, 14.546458445582621, 14.546450611673448, 188.111704895987, 65.93929885116042, 35.88019928196185, 32.97113919646859, 27.154022227857645, 45.59405539561034, 132.16436997278942, 73.7899740068701, 74.75031835465555, 46.613946723894465, 1528.9342187972077, 69.92224044727153, 57.28327783312409, 661.79173622075, 87.51974892232275, 205.68390697126648, 160.68188268688493, 378.2414599060538, 79.87687536897816, 187.3152693335819, 135.45070468562943, 154.37355445199665, 1771.8806711050559, 475.61933325189193, 307.4318236273697, 478.39849542960934, 2658.4090884216675, 1116.649456380559, 1134.9631194472377, 1252.6780462638415, 722.7128742856307, 1400.458235169651, 1684.9572703379283, 1686.1486763812552, 1043.70912554357, 952.9676761816364, 592.487115906861, 624.3627064457592, 1080.253973055946, 1317.6993867601977, 1126.3556724872778, 1142.009162795508, 795.6194703869626, 1007.9682633287129, 1420.3819219560914, 1864.1668674126038], \"Category\": [\"Default\", \"Default\", \"Default\", \"Default\", \"Default\", \"Default\", \"Default\", \"Default\", \"Default\", \"Default\", \"Default\", \"Default\", \"Default\", \"Default\", \"Default\", \"Default\", \"Default\", \"Default\", \"Default\", \"Default\", \"Default\", \"Default\", \"Default\", \"Default\", \"Default\", \"Default\", \"Default\", \"Default\", \"Default\", \"Default\", \"Topic1\", \"Topic1\", \"Topic1\", \"Topic1\", \"Topic1\", \"Topic1\", \"Topic1\", \"Topic1\", \"Topic1\", \"Topic1\", \"Topic1\", \"Topic1\", \"Topic1\", \"Topic1\", \"Topic1\", \"Topic1\", \"Topic1\", \"Topic1\", \"Topic1\", \"Topic1\", \"Topic1\", \"Topic1\", \"Topic1\", \"Topic1\", \"Topic1\", \"Topic1\", \"Topic1\", \"Topic1\", \"Topic1\", \"Topic1\", \"Topic1\", \"Topic1\", \"Topic1\", \"Topic1\", \"Topic1\", \"Topic1\", \"Topic1\", \"Topic1\", \"Topic1\", \"Topic1\", \"Topic1\", \"Topic1\", \"Topic1\", \"Topic1\", \"Topic1\", \"Topic1\", \"Topic1\", \"Topic1\", \"Topic1\", \"Topic1\", \"Topic1\", \"Topic1\", \"Topic1\", \"Topic1\", \"Topic1\", \"Topic1\", \"Topic1\", \"Topic1\", \"Topic1\", \"Topic1\", \"Topic1\", \"Topic1\", \"Topic1\", \"Topic1\", \"Topic1\", \"Topic1\", \"Topic1\", \"Topic1\", \"Topic1\", \"Topic1\", \"Topic1\", \"Topic1\", \"Topic1\", \"Topic1\", \"Topic1\", \"Topic1\", \"Topic1\", \"Topic1\", \"Topic1\", \"Topic1\", \"Topic1\", \"Topic1\", \"Topic2\", \"Topic2\", \"Topic2\", \"Topic2\", \"Topic2\", \"Topic2\", \"Topic2\", \"Topic2\", \"Topic2\", \"Topic2\", \"Topic2\", \"Topic2\", \"Topic2\", \"Topic2\", \"Topic2\", \"Topic2\", \"Topic2\", \"Topic2\", \"Topic2\", \"Topic2\", \"Topic2\", \"Topic2\", \"Topic2\", \"Topic2\", \"Topic2\", \"Topic2\", \"Topic2\", \"Topic2\", \"Topic2\", \"Topic2\", \"Topic2\", \"Topic2\", \"Topic2\", \"Topic2\", \"Topic2\", \"Topic2\", \"Topic2\", \"Topic2\", \"Topic2\", \"Topic2\", \"Topic2\", \"Topic2\", \"Topic2\", \"Topic2\", \"Topic2\", \"Topic2\", \"Topic2\", \"Topic2\", \"Topic2\", \"Topic2\", \"Topic2\", \"Topic2\", \"Topic2\", \"Topic2\", \"Topic2\", \"Topic2\", \"Topic2\", \"Topic2\", \"Topic2\", \"Topic2\", \"Topic2\", \"Topic2\", \"Topic2\", \"Topic2\", \"Topic2\", \"Topic2\", \"Topic2\", \"Topic2\", \"Topic2\", \"Topic3\", \"Topic3\", \"Topic3\", \"Topic3\", \"Topic3\", \"Topic3\", \"Topic3\", \"Topic3\", \"Topic3\", \"Topic3\", \"Topic3\", \"Topic3\", \"Topic3\", \"Topic3\", \"Topic3\", \"Topic3\", \"Topic3\", \"Topic3\", \"Topic3\", \"Topic3\", \"Topic3\", \"Topic3\", \"Topic3\", \"Topic3\", \"Topic3\", \"Topic3\", \"Topic3\", \"Topic3\", \"Topic3\", \"Topic3\", \"Topic3\", \"Topic3\", \"Topic3\", \"Topic3\", \"Topic3\", \"Topic3\", \"Topic3\", \"Topic3\", \"Topic3\", \"Topic3\", \"Topic3\", \"Topic3\", \"Topic3\", \"Topic3\", \"Topic3\", \"Topic3\", \"Topic3\", \"Topic3\", \"Topic3\", \"Topic3\", \"Topic3\", \"Topic3\", \"Topic3\", \"Topic3\", \"Topic3\", \"Topic3\", \"Topic3\", \"Topic3\", \"Topic3\", \"Topic3\", \"Topic3\", \"Topic3\", \"Topic3\", \"Topic3\", \"Topic3\", \"Topic3\", \"Topic3\", \"Topic3\", \"Topic3\", \"Topic3\", \"Topic3\", \"Topic3\", \"Topic3\", \"Topic4\", \"Topic4\", \"Topic4\", \"Topic4\", \"Topic4\", \"Topic4\", \"Topic4\", \"Topic4\", \"Topic4\", \"Topic4\", \"Topic4\", \"Topic4\", \"Topic4\", \"Topic4\", \"Topic4\", \"Topic4\", \"Topic4\", \"Topic4\", \"Topic4\", \"Topic4\", \"Topic4\", \"Topic4\", \"Topic4\", \"Topic4\", \"Topic4\", \"Topic4\", \"Topic4\", \"Topic4\", \"Topic4\", \"Topic4\", \"Topic4\", \"Topic4\", \"Topic4\", \"Topic4\", \"Topic4\", \"Topic4\", \"Topic4\", \"Topic4\", \"Topic4\", \"Topic4\", \"Topic4\", \"Topic4\", \"Topic4\", \"Topic4\", \"Topic4\", \"Topic4\", \"Topic4\", \"Topic4\", \"Topic4\", \"Topic4\", \"Topic4\", \"Topic4\", \"Topic4\", \"Topic4\", \"Topic4\", \"Topic4\", \"Topic4\", \"Topic4\", \"Topic4\", \"Topic4\", \"Topic4\", \"Topic4\", \"Topic4\", \"Topic4\", \"Topic4\", \"Topic4\", \"Topic4\", \"Topic4\", \"Topic4\", \"Topic4\", \"Topic4\", \"Topic4\", \"Topic4\", \"Topic4\", \"Topic4\", \"Topic5\", \"Topic5\", \"Topic5\", \"Topic5\", \"Topic5\", \"Topic5\", \"Topic5\", \"Topic5\", \"Topic5\", \"Topic5\", \"Topic5\", \"Topic5\", \"Topic5\", \"Topic5\", \"Topic5\", \"Topic5\", \"Topic5\", \"Topic5\", \"Topic5\", \"Topic5\", \"Topic5\", \"Topic5\", \"Topic5\", \"Topic5\", \"Topic5\", \"Topic5\", \"Topic5\", \"Topic5\", \"Topic5\", \"Topic5\", \"Topic5\", \"Topic5\", \"Topic5\", \"Topic5\", \"Topic5\", \"Topic5\", \"Topic5\", \"Topic5\", \"Topic5\", \"Topic5\", \"Topic5\", \"Topic5\", \"Topic5\", \"Topic5\", \"Topic5\", \"Topic5\", \"Topic5\", \"Topic5\", \"Topic5\", \"Topic5\", \"Topic5\", \"Topic5\", \"Topic5\", \"Topic5\", \"Topic5\", \"Topic5\", \"Topic5\", \"Topic5\", \"Topic5\", \"Topic5\", \"Topic5\", \"Topic5\", \"Topic5\", \"Topic5\", \"Topic5\", \"Topic5\", \"Topic5\", \"Topic5\", \"Topic5\", \"Topic5\", \"Topic5\", \"Topic5\", \"Topic5\", \"Topic5\", \"Topic5\", \"Topic5\"], \"logprob\": [30.0, 29.0, 28.0, 27.0, 26.0, 25.0, 24.0, 23.0, 22.0, 21.0, 20.0, 19.0, 18.0, 17.0, 16.0, 15.0, 14.0, 13.0, 12.0, 11.0, 10.0, 9.0, 8.0, 7.0, 6.0, 5.0, 4.0, 3.0, 2.0, 1.0, -5.9865, -6.0049, -6.2655, -6.5788, -6.6753, -6.7821, -6.8486, -5.9985, -7.0068, -7.0272, -7.048, -7.1244, -7.2452, -7.3527, -7.3816, -7.442, -7.4736, -7.4743, -7.5405, -7.6113, -7.6299, -7.63, -6.3722, -7.6489, -7.6683, -7.7082, -6.9569, -7.7286, -7.7286, -6.6235, -6.7167, -6.107, -6.8484, -5.7582, -6.8709, -6.4465, -6.7309, -6.6088, -6.2874, -7.0266, -5.0696, -6.1982, -6.0752, -6.1751, -5.9781, -6.3745, -5.7425, -5.4549, -4.8995, -5.8395, -5.7865, -5.8941, -5.6723, -6.4707, -6.2375, -6.1015, -5.825, -6.3403, -5.2644, -5.425, -6.3384, -5.9848, -5.6445, -5.1883, -5.1174, -5.9329, -5.4041, -5.3207, -4.9718, -5.2516, -5.4659, -5.407, -5.6292, -5.5238, -5.8039, -5.7338, -5.8173, -5.7935, -5.7158, -5.7179, -5.8156, -5.8105, -5.358, -6.291, -6.2965, -6.4197, -6.426, -6.4579, -6.707, -6.8594, -6.899, -6.9401, -6.9831, -7.077, -7.2178, -5.2587, -7.3985, -7.4154, -7.4325, -7.5034, -7.5411, -7.6208, -7.7537, -4.9181, -7.8275, -7.8275, -7.8277, -7.8537, -7.9071, -4.9169, -4.9931, -7.9351, -6.2804, -6.0026, -6.0115, -5.8857, -5.7354, -7.1596, -5.8275, -5.6329, -5.9546, -6.5117, -6.7593, -5.5456, -5.7852, -6.1973, -5.144, -5.5917, -5.7695, -5.6433, -4.774, -6.1564, -6.5431, -5.5687, -5.6038, -5.4941, -4.8497, -5.3255, -5.5878, -5.8817, -4.9315, -5.4064, -5.8988, -5.6432, -5.4696, -5.7227, -5.6779, -5.7681, -5.8027, -5.7872, -5.8155, -5.3784, -5.9415, -6.2927, -6.2936, -6.3921, -6.3191, -6.6516, -6.6607, -6.7461, -6.8069, -7.0295, -7.0427, -7.0835, -5.0832, -7.2326, -7.282, -7.3166, -7.334, -7.2996, -7.3888, -7.3889, -7.4079, -7.4079, -7.4272, -7.4273, -7.4085, -7.5299, -5.0779, -7.5519, -7.5742, -5.5531, -5.0054, -5.4663, -6.1723, -6.0983, -5.7006, -5.4129, -5.7172, -6.0403, -6.3863, -5.8265, -4.5672, -5.4151, -6.0226, -6.1857, -6.2223, -6.5513, -4.5123, -5.6512, -6.1228, -6.2567, -5.8753, -4.5801, -5.2227, -5.2652, -5.981, -5.938, -5.5679, -5.7206, -5.4556, -5.9077, -5.2936, -5.4564, -5.5365, -5.5792, -5.5586, -5.4213, -5.6793, -5.3925, -5.7355, -5.7224, -5.7738, -5.7592, -6.3555, -6.6161, -5.7087, -6.6793, -6.8412, -7.117, -7.1765, -7.2398, -7.343, -7.3613, -6.3001, -7.1951, -7.4183, -7.438, -5.1356, -7.4998, -7.4198, -7.5211, -6.7663, -7.5883, -7.6356, -7.5671, -7.7112, -7.3146, -7.7377, -7.7378, -7.793, -7.8218, -5.7252, -7.8821, -6.1375, -6.3698, -6.5205, -5.3788, -6.3996, -6.1512, -5.3748, -6.8166, -6.8175, -6.1157, -5.9281, -5.4703, -6.5566, -6.3346, -6.6284, -5.4301, -5.8881, -5.3408, -5.8207, -5.8648, -5.5247, -5.6915, -6.5726, -5.0088, -4.8336, -5.9993, -5.4297, -6.071, -5.7138, -5.1134, -4.6552, -5.6002, -4.4737, -5.3003, -5.5702, -5.5841, -5.4146, -5.4185, -5.7727, -5.5997, -5.4036, -5.4861, -5.5902, -5.5367, -5.7768, -6.0559, -6.1765, -6.3428, -6.1297, -6.5245, -6.5806, -6.5997, -6.8416, -6.8926, -7.0038, -7.1277, -7.1277, -6.673, -7.2326, -7.3914, -7.4355, -7.4816, -7.53, -7.5807, -7.5338, -7.6341, -7.6343, -7.6912, -5.7417, -7.8142, -7.8144, -7.7567, -7.8823, -7.8828, -7.8828, -5.3295, -6.3743, -6.9903, -7.0737, -7.2707, -6.7731, -5.7571, -6.3228, -6.3219, -6.7731, -3.7692, -6.4625, -6.638, -4.5791, -6.3522, -5.7663, -5.964, -5.4226, -6.4754, -5.9354, -6.2077, -6.153, -4.7918, -5.5759, -5.8128, -5.6606, -4.8686, -5.3517, -5.3539, -5.3588, -5.5754, -5.3682, -5.4396, -5.4401, -5.5925, -5.6402, -5.8136, -5.822, -5.7242, -5.6913, -5.7384, -5.7729, -5.824, -5.8028, -5.8001, -5.8066], \"loglift\": [30.0, 29.0, 28.0, 27.0, 26.0, 25.0, 24.0, 23.0, 22.0, 21.0, 20.0, 19.0, 18.0, 17.0, 16.0, 15.0, 14.0, 13.0, 12.0, 11.0, 10.0, 9.0, 8.0, 7.0, 6.0, 5.0, 4.0, 3.0, 2.0, 1.0, 1.3333, 1.3332, 1.3324, 1.331, 1.3304, 1.3297, 1.3294, 1.3285, 1.3282, 1.328, 1.3279, 1.3272, 1.3256, 1.3248, 1.3245, 1.3238, 1.3235, 1.3228, 1.3222, 1.3216, 1.3213, 1.3213, 1.3211, 1.321, 1.3207, 1.32, 1.3199, 1.3198, 1.3198, 1.3196, 1.3182, 1.3078, 1.3129, 1.271, 1.2983, 1.2841, 1.2895, 1.2812, 1.2678, 1.2982, 1.1568, 1.2364, 1.2204, 1.2239, 1.2028, 1.2343, 1.1611, 1.1056, 1.0068, 1.1388, 1.1242, 1.1401, 1.0992, 1.2391, 1.1851, 1.1485, 1.0699, 1.2065, 0.8922, 0.8926, 1.2046, 1.0395, 0.8679, 0.6412, 0.4747, 0.9385, 0.5131, 0.4201, 0.0672, 0.2433, 0.4318, 0.2728, 0.5427, 0.3601, 0.7578, 0.6156, 0.7607, 0.6161, 0.2511, -0.2732, 0.1239, -0.3163, 1.4325, 1.4299, 1.4299, 1.4293, 1.4293, 1.4291, 1.4277, 1.4266, 1.4263, 1.426, 1.4256, 1.4227, 1.4222, 1.4217, 1.4212, 1.4207, 1.4205, 1.4198, 1.4192, 1.418, 1.4157, 1.4153, 1.4143, 1.4143, 1.414, 1.4133, 1.4127, 1.4125, 1.4124, 1.4121, 1.4085, 1.4027, 1.3899, 1.3789, 1.3755, 1.402, 1.3735, 1.3663, 1.371, 1.3823, 1.3924, 1.3314, 1.338, 1.3495, 1.2347, 1.254, 1.2739, 1.2536, 1.0569, 1.2665, 1.3513, 1.1074, 1.1079, 1.0603, 0.7768, 0.926, 0.9927, 1.1066, 0.4624, 0.7595, 1.0972, 0.83, -0.025, 0.286, -0.183, 0.0233, 0.3093, 0.0967, -0.7765, 1.5789, 1.5774, 1.5759, 1.575, 1.575, 1.5749, 1.5738, 1.5736, 1.5728, 1.5726, 1.5705, 1.5704, 1.5699, 1.569, 1.5681, 1.5674, 1.5668, 1.5668, 1.5666, 1.566, 1.5659, 1.5656, 1.5656, 1.5654, 1.5653, 1.565, 1.5637, 1.5635, 1.5632, 1.563, 1.5561, 1.5253, 1.5321, 1.5462, 1.5422, 1.5299, 1.5203, 1.5197, 1.5198, 1.5335, 1.5075, 1.4413, 1.4537, 1.4565, 1.4596, 1.4584, 1.4936, 1.1534, 1.3442, 1.4113, 1.4385, 1.3156, 0.8137, 1.0066, 1.0181, 1.2857, 1.2532, 0.9516, 1.0386, 0.6411, 1.1413, 0.2014, 0.335, 0.3536, 0.4296, 0.3809, 0.0233, 0.6047, -0.3536, 0.5335, 0.4257, 0.291, -0.2649, 1.5832, 1.5816, 1.5814, 1.5811, 1.5796, 1.5771, 1.5764, 1.5756, 1.5742, 1.5739, 1.5735, 1.5731, 1.573, 1.5728, 1.5726, 1.5716, 1.5715, 1.5713, 1.571, 1.5701, 1.5693, 1.5689, 1.5678, 1.5676, 1.5673, 1.5672, 1.5661, 1.5654, 1.5649, 1.564, 1.5578, 1.5559, 1.5549, 1.5333, 1.5525, 1.5444, 1.4984, 1.5406, 1.5399, 1.5049, 1.4941, 1.4596, 1.526, 1.5021, 1.518, 1.4276, 1.4598, 1.4008, 1.4298, 1.4271, 1.377, 1.3816, 1.5023, 1.1811, 1.1403, 1.379, 1.2263, 1.3911, 1.282, 1.0346, 0.839, 1.1619, 0.5653, 0.9487, 1.0303, 0.9899, 0.8101, 0.7957, 1.0261, 0.7417, 0.4273, 0.2547, 0.3075, -0.0921, 0.9531, 2.4114, 2.4099, 2.4084, 2.4073, 2.4059, 2.4049, 2.4048, 2.4005, 2.3995, 2.3965, 2.394, 2.3939, 2.3908, 2.3907, 2.386, 2.3845, 2.3828, 2.3809, 2.3789, 2.377, 2.3768, 2.3765, 2.3738, 2.3694, 2.3684, 2.3682, 2.3652, 2.3648, 2.3643, 2.3643, 2.3579, 2.3614, 2.3539, 2.3551, 2.3522, 2.3315, 2.2832, 2.3004, 2.2884, 2.3094, 1.823, 2.2146, 2.2384, 1.8504, 2.1004, 1.8318, 1.881, 1.5663, 2.0685, 1.7562, 1.8081, 1.7321, 0.6528, 1.1839, 1.3833, 1.0934, 0.1704, 0.5546, 0.5362, 0.4326, 0.766, 0.3117, 0.0553, 0.0541, 0.3814, 0.4246, 0.7265, 0.6657, 0.2153, 0.0494, 0.1593, 0.111, 0.4214, 0.206, -0.1344, -0.4127]}, \"token.table\": {\"Topic\": [1, 2, 3, 4, 5, 3, 4, 4, 2, 4, 1, 3, 5, 3, 4, 5, 1, 2, 3, 1, 5, 2, 1, 2, 3, 4, 5, 1, 2, 3, 4, 5, 3, 1, 2, 3, 1, 2, 3, 4, 5, 1, 3, 4, 2, 4, 5, 1, 2, 3, 4, 5, 1, 2, 3, 4, 5, 1, 2, 2, 3, 2, 5, 4, 4, 3, 1, 2, 3, 5, 1, 2, 4, 3, 3, 1, 2, 3, 4, 5, 3, 1, 2, 3, 4, 5, 1, 5, 1, 3, 4, 5, 5, 1, 1, 2, 1, 2, 4, 1, 5, 3, 4, 1, 2, 3, 4, 5, 1, 2, 3, 4, 5, 1, 1, 2, 3, 4, 5, 3, 4, 5, 2, 3, 4, 1, 3, 5, 2, 2, 4, 1, 2, 3, 5, 1, 2, 3, 4, 5, 2, 3, 4, 1, 2, 3, 4, 5, 1, 2, 3, 4, 5, 4, 4, 1, 4, 2, 3, 4, 2, 4, 1, 4, 2, 2, 4, 3, 2, 2, 4, 1, 2, 3, 4, 5, 3, 4, 5, 3, 5, 3, 4, 3, 3, 5, 5, 3, 3, 5, 1, 2, 4, 2, 4, 4, 2, 4, 2, 2, 3, 4, 1, 2, 4, 1, 4, 5, 4, 1, 2, 3, 4, 5, 1, 2, 3, 4, 5, 4, 1, 5, 1, 3, 5, 1, 2, 3, 4, 5, 1, 2, 3, 4, 5, 1, 2, 3, 4, 5, 1, 2, 3, 4, 5, 1, 2, 4, 5, 2, 3, 4, 5, 1, 3, 5, 3, 5, 2, 3, 4, 3, 5, 1, 2, 3, 5, 5, 5, 4, 2, 4, 1, 5, 1, 2, 3, 4, 5, 1, 5, 5, 1, 2, 3, 4, 5, 1, 2, 3, 4, 5, 2, 1, 2, 3, 4, 5, 3, 2, 3, 4, 3, 4, 5, 1, 2, 3, 4, 5, 3, 4, 5, 5, 1, 5, 3, 5, 3, 1, 3, 1, 1, 2, 3, 4, 1, 2, 3, 4, 5, 2, 3, 5, 3, 1, 2, 3, 5, 4, 5, 2, 1, 2, 3, 4, 5, 1, 2, 3, 4, 5, 1, 3, 4, 4, 1, 1, 2, 3, 4, 5, 2, 4, 1, 2, 3, 4, 5, 1, 2, 3, 5, 2, 4, 2, 3, 4, 5, 2, 3, 4, 5, 4, 5, 3, 1, 2, 3, 4, 1, 2, 4, 5, 1, 2, 3, 4, 5, 2, 1, 2, 3, 2, 2, 1, 2, 3, 5, 2, 4, 4, 3, 1, 2, 3, 4, 5, 1, 2, 3, 4, 5, 1, 2, 3, 4, 5, 2, 2, 1, 2, 3, 4, 5, 1, 2, 5, 1, 2, 3, 5, 4, 1, 2, 3, 4, 5, 1, 2, 3, 4, 5, 2, 2, 3, 4, 5, 1, 2, 3, 4, 4, 3, 5, 1, 1, 2, 3, 4, 5, 2, 4, 1, 2, 3, 4, 5, 5, 3, 4, 5, 1, 2, 3, 4, 5, 5, 1, 2, 5, 1, 2, 2, 5, 1, 3, 5, 1, 1, 2, 3, 4, 5, 3, 4, 5, 1, 2, 3, 4, 5, 5, 5, 3, 1, 2, 4, 1, 2, 3, 4, 5, 2, 3, 5, 1, 2, 3, 4, 5, 3, 5, 3, 5, 2, 4, 5, 1, 2, 3, 4, 5, 1, 2, 3, 4, 5, 4, 1, 2, 3, 4, 5, 2, 3, 4, 3, 1, 2, 3, 4, 5, 1, 2, 3, 4, 5, 1, 3, 4, 5, 3, 5, 1, 2, 3, 4, 5, 2, 4, 2, 5, 1, 2, 2, 1, 3, 4, 5, 2, 4, 3, 4, 5, 3, 4, 3, 5, 1, 2, 3, 4, 5, 1, 2, 3, 4, 5, 1, 1, 2, 3, 4, 1, 2, 1, 2, 3, 4, 5, 1, 2, 3, 4, 5, 1, 2, 3, 4, 5, 1, 2, 3, 4, 5, 1, 2, 3, 5, 1, 2, 1, 4, 5, 1, 3, 4, 5, 1, 2, 3, 4, 5, 1, 2, 5, 1, 2, 3, 5, 1, 4, 5, 1, 2, 3, 4, 5, 2, 4, 5, 2, 4, 5, 1, 3, 2, 3, 4, 5, 1, 2, 3, 4, 4, 1, 2, 3, 4, 5, 4, 5, 1, 2, 3, 4, 5, 5, 1, 2, 3, 4, 5, 1, 2, 3, 4, 5, 5, 5, 1, 3, 2, 3, 4, 5, 1, 2, 3, 4, 5, 1, 3, 4, 5, 1, 2, 3, 4, 5, 3, 5, 3, 1, 4, 1, 3, 5, 4, 5, 3, 2, 3, 4, 5, 1, 2, 3, 4, 5, 1, 2, 3, 4, 5, 2, 4, 1, 2, 3, 4, 5, 2, 3, 4, 5, 1, 3, 1, 2, 3, 4, 5, 1, 2, 3, 4, 5, 1, 2, 4, 5, 4, 1, 2, 3, 4, 5, 1, 2, 3, 2, 1, 5, 1, 2, 3, 4, 5, 1, 2, 3, 5, 1, 2, 3, 4, 5, 1, 2, 3, 4, 5, 2, 1, 2, 3, 4, 5, 1, 2, 3, 4, 5, 3, 1, 2, 5, 1, 2, 4, 1, 3, 4, 1, 2, 3, 4, 2, 3, 1, 2, 4, 5, 1, 2, 3, 4, 5, 1, 2, 3, 4, 5, 3, 1, 2, 3, 4, 5, 2, 1, 2, 3, 4, 5, 1, 2, 3, 5, 1, 2, 3, 4, 1, 1, 2, 3, 4, 5, 1, 2, 3, 4, 5, 1, 4, 5, 3, 1, 2, 3, 4, 5, 2], \"Freq\": [0.12222434401241565, 0.03142911703176402, 0.1623837713307808, 0.5500095480558704, 0.1344467784136572, 0.9930934961177871, 0.9874617313126641, 0.9892251548023347, 0.012807510126889238, 0.9861782797704713, 0.9041950534309837, 0.01474231065376604, 0.08353976037134088, 0.18900754402338152, 0.7347335514148352, 0.07453818637541806, 0.9639283888288983, 0.03442601388674637, 0.9940950976064877, 0.9817092866558245, 0.013730199813368175, 0.9950962987366229, 0.5604966755170335, 0.0034492103108740525, 0.4225282630820714, 0.006898420621748105, 0.006898420621748105, 0.4519805759902238, 0.2546040453898418, 0.09109686027709937, 0.1459885581363772, 0.054891697859277826, 0.9752356345408114, 0.9439694991687495, 0.03255067238512929, 0.013020268954051718, 0.9041884360266547, 0.04128714319756414, 0.04541585751732055, 0.0041287143197564135, 0.0041287143197564135, 0.003993434482804202, 0.009983586207010505, 0.9843816000112358, 0.031167049962316087, 0.9557895321776934, 0.010389016654105363, 0.8924608778952519, 0.03187360278197328, 0.04382620382521326, 0.01593680139098664, 0.01593680139098664, 0.6418212030822207, 0.04600868839299073, 0.2553482205810985, 0.035656733504567814, 0.021854126986670597, 0.0116528587528645, 0.9885508508680052, 0.07600897057781772, 0.9197085439915944, 0.9955464665210217, 0.9651091070271627, 0.9783859874364743, 0.9874621154843818, 0.9971293759514714, 0.036961385628665515, 0.05280197946952216, 0.8870732550879723, 0.02640098973476108, 0.054367874983719255, 0.9029794888600328, 0.04254877172638898, 0.9818069209926429, 0.9877174586510316, 0.006321859715858456, 0.04636030458296201, 0.1475100600366973, 0.6532588373053738, 0.1454027734647445, 0.991454363965336, 0.06028534066202726, 0.8343491147624572, 0.08681089055331925, 0.014468481758886542, 0.004822827252962181, 0.9734396295621383, 0.01707788823793225, 0.010631980615485167, 0.04784391276968325, 0.005315990307742584, 0.9409302844704373, 0.9727571677820499, 0.977558576178908, 0.9935665308851126, 0.0037073378018101216, 0.9959454370502405, 0.9585204878711617, 0.03993835366129841, 0.9839372270565482, 0.010694969859310307, 0.021438878823245834, 0.9754689864576854, 0.17222054965853376, 0.6431910323981975, 0.021088230570432704, 0.12477203087506017, 0.04041910859332935, 0.8399232520310317, 0.007282571549402009, 0.004855047699601339, 0.0801082870434221, 0.07039819164421941, 0.9971147354790624, 0.0009581213534749865, 0.0009581213534749865, 0.22994912483399677, 0.6390669427678161, 0.13030450407259817, 0.9402276665971044, 0.00500121099253779, 0.052512715421646795, 0.9702256270767757, 0.012027590418307137, 0.016036787224409516, 0.04060291048496401, 0.008120582096992802, 0.9501081053481579, 0.9871460298328399, 0.9940926613903802, 0.9720323539594231, 0.06116366435077751, 0.020387888116925837, 0.8868731330862739, 0.025484860146157296, 0.02404743206866136, 0.11805103015524666, 0.16177363391644914, 0.5705799790836922, 0.12679555090748715, 0.844676332792221, 0.057127867918314465, 0.09385292586580234, 0.12615669231646287, 0.3027760615595109, 0.04289327538759738, 0.5273349738828148, 0.9770935609171604, 0.10039786467609758, 0.7212793962256484, 0.08718761932397948, 0.08982966839440311, 0.0026420490704236205, 0.9812903768755791, 0.9758900056785951, 0.99745393133298, 0.9892257235946676, 0.010470911917740564, 0.74343474615958, 0.24432127808061316, 0.026789760547160257, 0.9697893318072014, 0.055250399025720244, 0.9392567834372442, 0.9934778851488625, 0.9742831379197117, 0.021295806293327033, 0.9742499314157805, 0.9856149017628565, 0.9790338798429479, 0.9900337993920612, 0.008410087059857945, 0.06728069647886356, 0.2859429600351701, 0.34901861298410475, 0.2901480035650991, 0.9750362513760016, 0.008945286709871575, 0.014908811183119292, 0.030329555616540726, 0.9402162241127625, 0.18732219776698733, 0.8117295236569452, 0.9761794283461737, 0.9407211561092444, 0.05616245708114892, 0.9921645810926744, 0.9920255684789283, 0.9810949980442231, 0.9788505185673565, 0.9836372362627461, 0.11962844616882698, 0.8797675311999151, 0.08477266854198155, 0.9136609831746901, 0.9917553960720831, 0.9781385321968198, 0.02065450897549846, 0.9896059433916337, 0.11786896547476283, 0.8679442003141626, 0.010715360497705712, 0.7941357018973716, 0.13953360488869218, 0.06546020970086794, 0.012232160803539593, 0.9092572863964431, 0.07747035175575076, 0.9915220365854943, 0.02468692732473823, 0.012343463662369115, 0.0432021228182919, 0.9195880428464991, 0.012343463662369115, 0.12868180892989672, 0.18817984961791348, 0.06364906678252956, 0.42893936309965575, 0.19094720034758866, 0.9978175450479352, 0.9782678512858581, 0.9857064626637609, 0.09918394528023684, 0.869843200107677, 0.03074702303687342, 0.7653213464409699, 0.08182681062576408, 0.024066709007577673, 0.11552020323637283, 0.012033354503788837, 0.007571471873336271, 0.030285887493345084, 0.05678603905002203, 0.8782907373070075, 0.02650015155667695, 0.006842389332747213, 0.023948362664615246, 0.3147499093063718, 0.574760703950766, 0.0798278755487175, 0.49922939072926936, 0.13517340645991846, 0.16419837103720156, 0.12273413592679712, 0.07878204670976842, 0.907889190420184, 0.021745848872339737, 0.010872924436169868, 0.05980108439893428, 0.03132857012664369, 0.03916071265830461, 0.9163606762043279, 0.015664285063321844, 0.04386536759334977, 0.04386536759334977, 0.9211727194603452, 0.9810939797396754, 0.9740377499532821, 0.0420597256308028, 0.025235835378481678, 0.9337259090038221, 0.9651239825686754, 0.03290195395120484, 0.42251654260717614, 0.0006540503755529043, 0.026816065397669075, 0.5500563658399925, 0.9667921844825523, 0.9855827696336336, 0.9869876600409929, 0.9922978689535196, 0.9922097184981186, 0.12040082501453946, 0.8695615139938961, 0.29715234380663136, 0.24623839081795623, 0.30085517675126233, 0.04443399533557105, 0.11015928010276989, 0.9872663729562827, 0.9765913778201544, 0.9770987473031547, 0.37652937822968874, 0.26269491504396886, 0.2005237851502296, 0.06129548017692607, 0.09894841799989494, 0.8788049914486662, 0.004601073253657938, 0.027606439521947627, 0.041409659282921445, 0.050611805790237316, 0.9782876782981007, 0.48736582065265016, 0.15850499334295917, 0.14961686287512968, 0.14221008748527178, 0.06369826835277799, 0.9922710667919097, 0.6859373612318426, 0.0008304326407165164, 0.3130731055501267, 0.1573176135323512, 0.014301601230213748, 0.8151912701221836, 0.146838636088884, 0.23460425765925144, 0.12489723069629213, 0.3088674759111008, 0.18397024521480868, 0.036727455876255366, 0.9451198645489713, 0.014690982350502145, 0.9866622918077266, 0.974432767737499, 0.9814480140463995, 0.15711391422499474, 0.8379408758666386, 0.9895960854103079, 0.9744326983301608, 0.9872053001390164, 0.9782677060270198, 0.07559109641265568, 0.9070931569518683, 0.009070931569518683, 0.009070931569518683, 0.13671951507530686, 0.12651656618908994, 0.08366418086697883, 0.5305533420832803, 0.12447597641184655, 0.10592870077527235, 0.015132671539324622, 0.8701286135111658, 0.9844114805546463, 0.8216043653382216, 0.11618647590641516, 0.03596248063769993, 0.024897101979946108, 0.9819515249473441, 0.9331748595037722, 0.9929973252516435, 0.2538902170176328, 0.15082587149562343, 0.2978810962038563, 0.16213781185779522, 0.1357432843460611, 0.008964812524578852, 0.19005402552107165, 0.19722587554073473, 0.5719550390681307, 0.030480362583568094, 0.021437866914722395, 0.021437866914722395, 0.9593445444338272, 0.9749868937228049, 0.9955552752330293, 0.004180615154744516, 0.018812768196350322, 0.3344492123795613, 0.3762553639270065, 0.26546906232627676, 0.04154447495414839, 0.9555229239454129, 0.03368920891848753, 0.23582446242941268, 0.6429024035278037, 0.07580072006659694, 0.011229736306162509, 0.9714581708282075, 0.012143227135352595, 0.004047742378450864, 0.016190969513803458, 0.010182038748425713, 0.9876577585972941, 0.041064642324920034, 0.929554176264099, 0.014932597209061831, 0.011199447906796372, 0.006868709001613894, 0.013737418003227787, 0.8517199162001229, 0.12707111652985703, 0.9647208731212543, 0.026985199248146977, 0.991641893084224, 0.8744890767803023, 0.060861877138555835, 0.006406513383005878, 0.057658620447052895, 0.9567923745363329, 0.007416995151444441, 0.014833990302888882, 0.022250985454333325, 0.010019051647589313, 0.7213717186264306, 0.1182248094415539, 0.1182248094415539, 0.0320609652722858, 0.9810505842392444, 0.0338266963889115, 0.9556041729867497, 0.9855848902815316, 0.9810524238662601, 0.9963428719978419, 0.06259633938988371, 0.11267341090179069, 0.11267341090179069, 0.7010790011666976, 0.9788269828808733, 0.02050615187599595, 0.969828598145568, 0.983795928564453, 0.3999394742800365, 0.1464673976016073, 0.09638010101245661, 0.2633377563096256, 0.09334450727978082, 0.006873114911553367, 0.8339379426018085, 0.032074536253915716, 0.11913399180025837, 0.006873114911553367, 0.06142138019023237, 0.8515236799100396, 0.00558376183547567, 0.06142138019023237, 0.019543166424164846, 0.9934002434129059, 0.9949711975161467, 0.2440607939180505, 0.20353084258147894, 0.2934016042408333, 0.10749247963177676, 0.1515467745628328, 0.4404899546518182, 0.05182234760609626, 0.5052678891594385, 0.016027541161401485, 0.9349399010817534, 0.02404131174210223, 0.026712568602335812, 0.985471236284462, 0.21234506407560572, 0.24427665265840356, 0.28738429724518066, 0.118945167470922, 0.13730583090603077, 0.10321027881554891, 0.19335596537596503, 0.37626025694782383, 0.21164639453315093, 0.1149684118451684, 0.9878279988648112, 0.004756154647992538, 0.20927080451167168, 0.6658616507189553, 0.12128194352380972, 0.9358684097094343, 0.027525541462042186, 0.013762770731021093, 0.02202043316963375, 0.9730572776987076, 0.8436475293263691, 0.1550487351194408, 0.9814587906874017, 0.009920849521272649, 0.038029923164878486, 0.5324189243082988, 0.29431853579775524, 0.12401061901590811, 0.8185826689197284, 0.17951374318415098, 0.8272290370209632, 0.05148728446188567, 0.05835225572347043, 0.041189827569508536, 0.024027399415546647, 0.9845960272040469, 0.9824188759081264, 0.0018677164941219133, 0.014941731952975306, 0.1559459656119849, 0.12792442491608136, 0.21320737486013558, 0.4519996347034875, 0.04995144211008891, 0.9624335746307675, 0.02145280694473778, 0.06435842083421334, 0.9010178916789867, 0.9846277007712712, 0.9959608490492109, 0.9949111940511957, 0.962440708419091, 0.36239880263582874, 0.5627694716699729, 0.0742113589015349, 0.9836365723349687, 0.06918398097853326, 0.007982767035984606, 0.790293936562476, 0.1277242725757537, 0.0053218446906564045, 0.9528399511650996, 0.04270431153681119, 0.0026690194710506992, 0.19978772034305414, 0.2325213016421986, 0.21051079007898077, 0.1862427901503047, 0.17044037159209705, 0.9821793525515545, 0.9455742048096448, 0.9850067901181787, 0.9789509686162531, 0.0035728657546143772, 0.9932566797827969, 0.33532007603177133, 0.19822461131789668, 0.2516384287388868, 0.12047783262734439, 0.09377092391684932, 0.009710150808218318, 0.7217878767442283, 0.2686475056940401, 0.5626988096333001, 0.11744803814776046, 0.14724828663301312, 0.09465961283550843, 0.07713005490300687, 0.03682695666994364, 0.920673916748591, 0.9940920402210741, 0.9704877308655487, 0.9477182717603715, 0.04575191656774207, 0.9929148637365454, 0.1601633136758904, 0.2818874320695671, 0.18258617759051504, 0.2018057752316219, 0.17297637876996164, 0.0013726741899500981, 0.9814620458143202, 0.008236045139700589, 0.0054906967598003925, 0.0027453483799001963, 0.9961836521363027, 0.03701385385942917, 0.3781850285637329, 0.46455068756906764, 0.06115332376775255, 0.05900759310923492, 0.0018880582637852733, 0.9874544719596979, 0.007552233055141093, 0.9810939153955259, 0.03667428935448693, 0.6019641976805441, 0.06702542537199335, 0.2326920428008826, 0.06196690270240895, 0.7191155607622792, 0.043881273321733104, 0.07432950378987445, 0.00805982571215506, 0.15492776091142504, 0.6417234644430018, 0.2337224407339775, 0.006754983836242124, 0.11753671875061296, 0.021054581665713692, 0.9685107566228298, 0.003702261712968201, 0.9403744750939231, 0.02961809370374561, 0.007404523425936402, 0.022213570277809208, 0.9438871816019958, 0.053765725534290904, 0.9683959009890499, 0.025484102657606575, 0.9653038016284992, 0.0301657438008906, 0.9804174397278297, 0.012386653541611661, 0.05161105642338192, 0.827841345031046, 0.1073509973606344, 0.9412721996299468, 0.055561206228156586, 0.010739084052710842, 0.8519673348483935, 0.136028398001004, 0.9637473016328717, 0.03550647953384264, 0.05574105049649112, 0.947597858440349, 0.05136209313047389, 0.6882520479483502, 0.0958759071768846, 0.1386776514522795, 0.025681046565236947, 0.0806297366302219, 0.004243670348959047, 0.06789872558334475, 0.8190283773490961, 0.025462022093754283, 0.9768224972735075, 0.013912386765327947, 0.039418429168429185, 0.09506797622974097, 0.8509743238125594, 0.994709526075159, 0.9810496600639725, 0.09782111143815361, 0.09782111143815361, 0.3331205416542528, 0.044944834985097604, 0.42565402544710085, 0.034477106593725146, 0.27458552751431103, 0.17361685820411593, 0.4592843128378386, 0.057872286068038646, 0.24625422115661974, 0.5461792341037848, 0.11997000517886602, 0.029992501294716506, 0.05682789718998917, 0.03392134351778925, 0.08238040568605962, 0.04603610905985684, 0.809266338210115, 0.026652484192548696, 0.9914867485328549, 0.015165463045902584, 0.04549638913770775, 0.9402587088459602, 0.9898211807227916, 0.989056241559258, 0.9964176392698216, 0.9915227972633988, 0.9624340929439568, 0.06346407442293947, 0.03626518538453684, 0.33394191541594337, 0.5651324722423657, 0.09815048563877886, 0.5185053241331352, 0.169901875140231, 0.1563638771210891, 0.05685959168039603, 0.9491646255408064, 0.03330402194880022, 0.01665201097440011, 0.04316415533286751, 0.06474623299930125, 0.8848651843237838, 0.0086328310665735, 0.8909568394755226, 0.06466622221999761, 0.04311081481333174, 0.6255128170377791, 0.07552123250324892, 0.15104246500649784, 0.13134127391869377, 0.01641765923983672, 0.9474145556849055, 0.0487639844837819, 0.003483141748841564, 0.020780779439646235, 0.9628427807036088, 0.013853852959764155, 0.987151856374243, 0.009583998605575175, 0.042708744612555506, 0.08541748922511101, 0.35768573613015237, 0.5125049353506661, 0.030027331457508324, 0.2637183023659427, 0.5692137615423317, 0.13708129578427714, 0.9791449435881453, 0.013266170419625722, 0.030322675244858797, 0.15161337622429397, 0.6955263634289486, 0.10802453055980946, 0.9638393920128198, 0.03134437047196162, 0.011425992559548357, 0.011425992559548357, 0.1028339330359352, 0.14853790327412864, 0.7312635238110948, 0.9579284940151482, 0.2827584000984404, 0.1408375172904109, 0.39109495186029497, 0.11917020693804001, 0.06608529657473128, 0.8213497378263134, 0.11509359383553436, 0.02877339845888359, 0.03138916195514573, 0.0026157634962621443, 0.9823335825378168, 0.9798466335639316, 0.9858097558068216, 0.01505053062300491, 0.003387954621798639, 0.9418513848600216, 0.03387954621798639, 0.020327727730791834, 0.6723449256506454, 0.1269462447032687, 0.08933254256896687, 0.08463082980217915, 0.02821027660072638, 0.9951409865792956, 0.9492976724572527, 0.013465215212159614, 0.03366303803039904, 0.04375646171120853, 0.019447316316092682, 0.15557853052874146, 0.22364413763506585, 0.5542485150086415, 0.41074948149949086, 0.5850068372871536, 0.9927447412753285, 0.9939408959778951, 0.9791540279638596, 0.7891822835306408, 0.19782736487425767, 0.012763055798339204, 0.9199232366320202, 0.07956092857358013, 0.9803545414174991, 0.01476551934256706, 0.42820006093444474, 0.01476551934256706, 0.5389414560036977, 0.9901679698182115, 0.34879919329993553, 0.5820323888197719, 0.05673239891023047, 0.012607199757828993, 0.3377752179467362, 0.20837400769108516, 0.2321609948704328, 0.14938227948630306, 0.07136096153804286, 0.7212518884704261, 0.278445769275446, 0.8092607170686453, 0.0440081356714067, 0.051342824949974476, 0.007334689278567783, 0.0880162713428134, 0.00835979673343048, 0.9463289902243304, 0.010031756080116578, 0.03511114628040802, 0.9864376248303037, 0.9803530296566834, 0.48675103307129763, 0.0920503386323944, 0.12552318904417417, 0.25104637808834834, 0.04463046721570637, 0.34560116670767294, 0.2063610272283419, 0.18493946730844482, 0.14138229547132075, 0.12138883954608347, 0.614770448192384, 0.026022029553116784, 0.003252753694139598, 0.35455015266121614, 0.9900324554109675, 0.2112834242765669, 0.5096341937220488, 0.089389141040086, 0.13698595639909283, 0.05224040710134896, 0.05542078366854404, 0.9190613291700219, 0.023091993195226684, 0.9972529854064179, 0.9930473281519806, 0.9667892470869692, 0.0057516922448322665, 0.07477199918281946, 0.06614446081557107, 0.8138644526437657, 0.043137691836242, 0.06798827774085915, 0.0046888467407489075, 0.8815031872607946, 0.044544044037114615, 0.4390579424913169, 0.16113879126485445, 0.116780359961608, 0.19282338505288762, 0.09052741082295193, 0.05456638383408165, 0.28857222219947026, 0.2749306262409498, 0.2455487272533674, 0.1353666060499333, 0.9893714640201775, 0.19156080630636302, 0.08421558667338559, 0.1577559581346519, 0.4726748068921713, 0.09370466686193608, 0.05491480762623451, 0.16474442287870353, 0.6519373315627328, 0.04998655565977757, 0.07744395947289483, 0.9990954705751647, 0.06775988292846509, 0.04065592975707905, 0.8808784780700462, 0.9315184429480329, 0.055891106576881976, 0.009315184429480329, 0.02682820319734339, 0.9524012135056903, 0.020121152398007543, 0.18371404618956585, 0.7135560054899079, 0.07188810503069967, 0.029287746493988756, 0.9219907229039499, 0.07846729556629362, 0.742332042511416, 0.2383132387398273, 0.016435395775160504, 0.9651078279914819, 0.2804991835626346, 0.32449905549402824, 0.21999935965696832, 0.07259978868679955, 0.1033996990387751, 0.22909707243511726, 0.23810650786795895, 0.3513679818808259, 0.07078842125804186, 0.11068734960348361, 0.9934295087641591, 0.07441912378152647, 0.07118350970406881, 0.7668405363574685, 0.016178070387288364, 0.07118350970406881, 0.9827840690940634, 0.8606796464314622, 0.05302765594127492, 0.04079050457021148, 0.03671145411319033, 0.008158100914042296, 0.8361785252003578, 0.1171636576608171, 0.035765748128038906, 0.011099714936287936, 0.8775115469379764, 0.018473927303957395, 0.08313267286780829, 0.023092409129946746, 0.9752610544559709, 0.15575887228981142, 0.31747031294738637, 0.3164782182194258, 0.10218575697993998, 0.10913042007566406, 0.4048454774441157, 0.05149350370999717, 0.1624708823953359, 0.2778873562280882, 0.10387482644947706, 0.017556942356521624, 0.983188771965211, 0.9927521032899008, 0.9818076071861207, 0.2809951272185515, 0.10946396522168472, 0.14444729431315098, 0.35923741163817496, 0.10532615210333925, 0.9893369760790275], \"Term\": [\"2004\", \"2004\", \"2004\", \"2004\", \"2004\", \"3g\", \"airbus\", \"aircraft\", \"airlin\", \"airlin\", \"album\", \"album\", \"album\", \"analyst\", \"analyst\", \"analyst\", \"andi\", \"andi\", \"appl\", \"arsenal\", \"arsenal\", \"asylum\", \"award\", \"award\", \"award\", \"award\", \"award\", \"back\", \"back\", \"back\", \"back\", \"back\", \"bafta\", \"ball\", \"ball\", \"ball\", \"band\", \"band\", \"band\", \"band\", \"band\", \"bank\", \"bank\", \"bank\", \"bankruptci\", \"bankruptci\", \"bankruptci\", \"beat\", \"beat\", \"beat\", \"beat\", \"beat\", \"best\", \"best\", \"best\", \"best\", \"best\", \"blair\", \"blair\", \"blog\", \"blog\", \"blunkett\", \"bmw\", \"boe\", \"boers\", \"broadband\", \"broadcast\", \"broadcast\", \"broadcast\", \"broadcast\", \"brown\", \"brown\", \"brown\", \"browser\", \"bt\", \"busi\", \"busi\", \"busi\", \"busi\", \"busi\", \"camera\", \"campaign\", \"campaign\", \"campaign\", \"campaign\", \"campaign\", \"captain\", \"captain\", \"car\", \"car\", \"car\", \"car\", \"carmak\", \"celtic\", \"champion\", \"champion\", \"championship\", \"chancellor\", \"chancellor\", \"chelsea\", \"chelsea\", \"china\", \"china\", \"claim\", \"claim\", \"claim\", \"claim\", \"claim\", \"club\", \"club\", \"club\", \"club\", \"club\", \"coach\", \"compani\", \"compani\", \"compani\", \"compani\", \"compani\", \"comput\", \"comput\", \"comput\", \"conserv\", \"conserv\", \"conserv\", \"consol\", \"consol\", \"consol\", \"constitu\", \"constitut\", \"cont\", \"content\", \"content\", \"content\", \"content\", \"cost\", \"cost\", \"cost\", \"cost\", \"cost\", \"council\", \"council\", \"council\", \"countri\", \"countri\", \"countri\", \"countri\", \"countrysid\", \"court\", \"court\", \"court\", \"court\", \"court\", \"creditor\", \"crude\", \"cup\", \"currenc\", \"data\", \"data\", \"data\", \"debt\", \"debt\", \"deficit\", \"deficit\", \"dem\", \"democrat\", \"democrat\", \"desktop\", \"detain\", \"detent\", \"deutsch\", \"develop\", \"develop\", \"develop\", \"develop\", \"develop\", \"digit\", \"digit\", \"digit\", \"disney\", \"disney\", \"dollar\", \"dollar\", \"domain\", \"download\", \"download\", \"ds\", \"dvd\", \"dvds\", \"ea\", \"ebber\", \"econom\", \"econom\", \"economi\", \"economi\", \"economist\", \"elect\", \"elect\", \"elector\", \"email\", \"email\", \"email\", \"england\", \"england\", \"england\", \"euro\", \"euro\", \"euro\", \"euronext\", \"exchang\", \"exchang\", \"exchang\", \"exchang\", \"exchang\", \"expect\", \"expect\", \"expect\", \"expect\", \"expect\", \"export\", \"fa\", \"fiat\", \"film\", \"film\", \"film\", \"final\", \"final\", \"final\", \"final\", \"final\", \"financi\", \"financi\", \"financi\", \"financi\", \"financi\", \"firm\", \"firm\", \"firm\", \"firm\", \"firm\", \"first\", \"first\", \"first\", \"first\", \"first\", \"footbal\", \"footbal\", \"footbal\", \"footbal\", \"forecast\", \"forecast\", \"forecast\", \"forecast\", \"foster\", \"foster\", \"foster\", \"foxx\", \"franchis\", \"fraud\", \"fraud\", \"fraud\", \"gadget\", \"gadget\", \"game\", \"game\", \"game\", \"game\", \"gameplay\", \"gamer\", \"gas\", \"gazprom\", \"gdp\", \"gerrard\", \"gerrard\", \"get\", \"get\", \"get\", \"get\", \"get\", \"glazer\", \"gm\", \"gms\", \"go\", \"go\", \"go\", \"go\", \"go\", \"goal\", \"goal\", \"goal\", \"goal\", \"goal\", \"goldsmith\", \"good\", \"good\", \"good\", \"good\", \"good\", \"googl\", \"govern\", \"govern\", \"govern\", \"graphic\", \"graphic\", \"graphic\", \"group\", \"group\", \"group\", \"group\", \"group\", \"growth\", \"growth\", \"growth\", \"halflif\", \"halftim\", \"halo\", \"handheld\", \"handheld\", \"handset\", \"henman\", \"highdefinit\", \"hodgson\", \"howard\", \"howard\", \"howard\", \"howard\", \"howev\", \"howev\", \"howev\", \"howev\", \"howev\", \"hunt\", \"hunt\", \"hunt\", \"iaaf\", \"im\", \"im\", \"im\", \"im\", \"imf\", \"immers\", \"immigr\", \"includ\", \"includ\", \"includ\", \"includ\", \"includ\", \"increas\", \"increas\", \"increas\", \"increas\", \"increas\", \"india\", \"india\", \"india\", \"indonesia\", \"indoor\", \"industri\", \"industri\", \"industri\", \"industri\", \"industri\", \"inflat\", \"inflat\", \"inform\", \"inform\", \"inform\", \"inform\", \"inform\", \"injuri\", \"injuri\", \"injuri\", \"injuri\", \"insur\", \"insur\", \"internet\", \"internet\", \"internet\", \"internet\", \"invest\", \"invest\", \"invest\", \"invest\", \"investor\", \"investor\", \"ipod\", \"ireland\", \"ireland\", \"ireland\", \"ireland\", \"irish\", \"irish\", \"irish\", \"irish\", \"issu\", \"issu\", \"issu\", \"issu\", \"issu\", \"jewish\", \"kennedi\", \"kennedi\", \"kenteri\", \"khodorkovski\", \"kilroysilk\", \"label\", \"label\", \"label\", \"label\", \"labour\", \"labour\", \"lanka\", \"laptop\", \"last\", \"last\", \"last\", \"last\", \"last\", \"law\", \"law\", \"law\", \"law\", \"law\", \"leader\", \"leader\", \"leader\", \"leader\", \"leader\", \"lib\", \"liber\", \"like\", \"like\", \"like\", \"like\", \"like\", \"liverpool\", \"liverpool\", \"liverpool\", \"lord\", \"lord\", \"lord\", \"lord\", \"lse\", \"make\", \"make\", \"make\", \"make\", \"make\", \"mani\", \"mani\", \"mani\", \"mani\", \"mani\", \"manifesto\", \"market\", \"market\", \"market\", \"market\", \"match\", \"match\", \"match\", \"match\", \"mci\", \"microsoft\", \"microsoft\", \"midfield\", \"million\", \"million\", \"million\", \"million\", \"million\", \"minist\", \"minist\", \"minut\", \"minut\", \"minut\", \"minut\", \"minut\", \"mitsubishi\", \"mobil\", \"mobil\", \"mobil\", \"month\", \"month\", \"month\", \"month\", \"month\", \"morient\", \"motor\", \"motor\", \"motor\", \"mourinho\", \"mp\", \"mps\", \"multiplay\", \"music\", \"music\", \"music\", \"nadal\", \"net\", \"net\", \"net\", \"net\", \"net\", \"network\", \"network\", \"network\", \"new\", \"new\", \"new\", \"new\", \"new\", \"nintendo\", \"nissan\", \"nomine\", \"ogara\", \"oil\", \"oil\", \"one\", \"one\", \"one\", \"one\", \"one\", \"onlin\", \"onlin\", \"onlin\", \"open\", \"open\", \"open\", \"open\", \"open\", \"osbourn\", \"osbourn\", \"oscar\", \"painkil\", \"parliament\", \"parliament\", \"parri\", \"part\", \"part\", \"part\", \"part\", \"part\", \"parti\", \"parti\", \"parti\", \"parti\", \"parti\", \"patent\", \"peopl\", \"peopl\", \"peopl\", \"peopl\", \"peopl\", \"phone\", \"phone\", \"phone\", \"piraci\", \"plan\", \"plan\", \"plan\", \"plan\", \"plan\", \"play\", \"play\", \"play\", \"play\", \"play\", \"player\", \"player\", \"player\", \"player\", \"playstat\", \"playstat\", \"polic\", \"polic\", \"polic\", \"polic\", \"polic\", \"polit\", \"polit\", \"poster\", \"poster\", \"premiership\", \"premiership\", \"prescott\", \"price\", \"price\", \"price\", \"price\", \"prime\", \"prime\", \"profit\", \"profit\", \"profit\", \"program\", \"program\", \"psp\", \"psp\", \"public\", \"public\", \"public\", \"public\", \"public\", \"quarter\", \"quarter\", \"quarter\", \"quarter\", \"quarter\", \"ranger\", \"rate\", \"rate\", \"rate\", \"rate\", \"refere\", \"referendum\", \"releas\", \"releas\", \"releas\", \"releas\", \"releas\", \"report\", \"report\", \"report\", \"report\", \"report\", \"right\", \"right\", \"right\", \"right\", \"right\", \"rise\", \"rise\", \"rise\", \"rise\", \"rise\", \"robinson\", \"robot\", \"robot\", \"robot\", \"roddick\", \"rosneft\", \"rugbi\", \"rupe\", \"saab\", \"sale\", \"sale\", \"sale\", \"sale\", \"say\", \"say\", \"say\", \"say\", \"say\", \"score\", \"score\", \"score\", \"search\", \"search\", \"search\", \"search\", \"season\", \"season\", \"season\", \"second\", \"second\", \"second\", \"second\", \"second\", \"secretari\", \"secretari\", \"secretari\", \"sector\", \"sector\", \"sector\", \"seed\", \"seed\", \"sell\", \"sell\", \"sell\", \"sell\", \"servic\", \"servic\", \"servic\", \"servic\", \"settlement\", \"share\", \"share\", \"share\", \"share\", \"share\", \"sharehold\", \"sharehold\", \"shop\", \"shop\", \"shop\", \"shop\", \"shop\", \"shopper\", \"show\", \"show\", \"show\", \"show\", \"show\", \"side\", \"side\", \"side\", \"side\", \"side\", \"sim\", \"simul\", \"singer\", \"singer\", \"site\", \"site\", \"site\", \"site\", \"six\", \"six\", \"six\", \"six\", \"six\", \"slam\", \"softwar\", \"softwar\", \"softwar\", \"sold\", \"sold\", \"sold\", \"sold\", \"sold\", \"soni\", \"soni\", \"spam\", \"squad\", \"sri\", \"star\", \"star\", \"star\", \"stock\", \"stock\", \"storag\", \"store\", \"store\", \"store\", \"store\", \"striker\", \"system\", \"system\", \"system\", \"system\", \"take\", \"take\", \"take\", \"take\", \"take\", \"tax\", \"tax\", \"team\", \"team\", \"team\", \"team\", \"team\", \"technolog\", \"technolog\", \"technolog\", \"technolog\", \"tenni\", \"thanou\", \"three\", \"three\", \"three\", \"three\", \"three\", \"time\", \"time\", \"time\", \"time\", \"time\", \"titl\", \"titl\", \"titl\", \"titl\", \"tobacco\", \"told\", \"told\", \"told\", \"told\", \"told\", \"toni\", \"toni\", \"toni\", \"tori\", \"tournament\", \"toyota\", \"trade\", \"trade\", \"trade\", \"trade\", \"trade\", \"tv\", \"tv\", \"tv\", \"tv\", \"two\", \"two\", \"two\", \"two\", \"two\", \"uk\", \"uk\", \"uk\", \"uk\", \"uk\", \"ukip\", \"us\", \"us\", \"us\", \"us\", \"us\", \"use\", \"use\", \"use\", \"use\", \"use\", \"user\", \"vehicl\", \"vehicl\", \"vehicl\", \"victori\", \"victori\", \"victori\", \"virus\", \"virus\", \"virus\", \"vote\", \"vote\", \"vote\", \"vote\", \"voter\", \"voter\", \"wale\", \"wale\", \"wale\", \"walmart\", \"want\", \"want\", \"want\", \"want\", \"want\", \"way\", \"way\", \"way\", \"way\", \"way\", \"web\", \"websit\", \"websit\", \"websit\", \"websit\", \"websit\", \"westminst\", \"william\", \"william\", \"william\", \"william\", \"william\", \"win\", \"win\", \"win\", \"win\", \"winner\", \"winner\", \"winner\", \"winner\", \"woodward\", \"work\", \"work\", \"work\", \"work\", \"work\", \"world\", \"world\", \"world\", \"world\", \"world\", \"worldcom\", \"worldcom\", \"xbox\", \"yahoo\", \"year\", \"year\", \"year\", \"year\", \"year\", \"yugansk\"]}, \"R\": 30, \"lambda.step\": 0.01, \"plot.opts\": {\"xlab\": \"PC1\", \"ylab\": \"PC2\"}, \"topic.order\": [4, 3, 2, 1, 5]};\n",
              "\n",
              "function LDAvis_load_lib(url, callback){\n",
              "  var s = document.createElement('script');\n",
              "  s.src = url;\n",
              "  s.async = true;\n",
              "  s.onreadystatechange = s.onload = callback;\n",
              "  s.onerror = function(){console.warn(\"failed to load library \" + url);};\n",
              "  document.getElementsByTagName(\"head\")[0].appendChild(s);\n",
              "}\n",
              "\n",
              "if(typeof(LDAvis) !== \"undefined\"){\n",
              "   // already loaded: just create the visualization\n",
              "   !function(LDAvis){\n",
              "       new LDAvis(\"#\" + \"ldavis_el78171397796301156327899290062\", ldavis_el78171397796301156327899290062_data);\n",
              "   }(LDAvis);\n",
              "}else if(typeof define === \"function\" && define.amd){\n",
              "   // require.js is available: use it to load d3/LDAvis\n",
              "   require.config({paths: {d3: \"https://d3js.org/d3.v5\"}});\n",
              "   require([\"d3\"], function(d3){\n",
              "      window.d3 = d3;\n",
              "      LDAvis_load_lib(\"https://cdn.jsdelivr.net/gh/bmabey/pyLDAvis@3.4.0/pyLDAvis/js/ldavis.v3.0.0.js\", function(){\n",
              "        new LDAvis(\"#\" + \"ldavis_el78171397796301156327899290062\", ldavis_el78171397796301156327899290062_data);\n",
              "      });\n",
              "    });\n",
              "}else{\n",
              "    // require.js not available: dynamically load d3 & LDAvis\n",
              "    LDAvis_load_lib(\"https://d3js.org/d3.v5.js\", function(){\n",
              "         LDAvis_load_lib(\"https://cdn.jsdelivr.net/gh/bmabey/pyLDAvis@3.4.0/pyLDAvis/js/ldavis.v3.0.0.js\", function(){\n",
              "                 new LDAvis(\"#\" + \"ldavis_el78171397796301156327899290062\", ldavis_el78171397796301156327899290062_data);\n",
              "            })\n",
              "         });\n",
              "}\n",
              "</script>"
            ]
          },
          "metadata": {},
          "execution_count": 36
        }
      ]
    },
    {
      "cell_type": "code",
      "source": [],
      "metadata": {
        "id": "ei4X6EraElT8"
      },
      "execution_count": null,
      "outputs": []
    }
  ],
  "metadata": {
    "colab": {
      "provenance": [],
      "include_colab_link": true
    },
    "kernelspec": {
      "display_name": "Python 3",
      "language": "python",
      "name": "python3"
    },
    "language_info": {
      "codemirror_mode": {
        "name": "ipython",
        "version": 3
      },
      "file_extension": ".py",
      "mimetype": "text/x-python",
      "name": "python",
      "nbconvert_exporter": "python",
      "pygments_lexer": "ipython3",
      "version": "3.7.1"
    }
  },
  "nbformat": 4,
  "nbformat_minor": 0
}